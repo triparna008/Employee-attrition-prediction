{
 "cells": [
  {
   "cell_type": "markdown",
   "metadata": {},
   "source": [
    "# Importing the dataset"
   ]
  },
  {
   "cell_type": "code",
   "execution_count": 123,
   "metadata": {},
   "outputs": [],
   "source": [
    "import pandas as pd\n",
    "import numpy as np\n",
    "import matplotlib.pyplot as plt\n",
    "import seaborn as sns"
   ]
  },
  {
   "cell_type": "code",
   "execution_count": 124,
   "metadata": {},
   "outputs": [],
   "source": [
    "hr_data = pd.read_csv('train.csv')"
   ]
  },
  {
   "cell_type": "code",
   "execution_count": 125,
   "metadata": {},
   "outputs": [
    {
     "data": {
      "text/html": [
       "<div>\n",
       "<style scoped>\n",
       "    .dataframe tbody tr th:only-of-type {\n",
       "        vertical-align: middle;\n",
       "    }\n",
       "\n",
       "    .dataframe tbody tr th {\n",
       "        vertical-align: top;\n",
       "    }\n",
       "\n",
       "    .dataframe thead th {\n",
       "        text-align: right;\n",
       "    }\n",
       "</style>\n",
       "<table border=\"1\" class=\"dataframe\">\n",
       "  <thead>\n",
       "    <tr style=\"text-align: right;\">\n",
       "      <th></th>\n",
       "      <th>satisfaction_level</th>\n",
       "      <th>last_evaluation_rating</th>\n",
       "      <th>projects_worked_on</th>\n",
       "      <th>average_montly_hours</th>\n",
       "      <th>time_spend_company</th>\n",
       "      <th>Work_accident</th>\n",
       "      <th>promotion_last_5years</th>\n",
       "      <th>Department</th>\n",
       "      <th>salary</th>\n",
       "      <th>Attrition</th>\n",
       "    </tr>\n",
       "  </thead>\n",
       "  <tbody>\n",
       "    <tr>\n",
       "      <th>0</th>\n",
       "      <td>3.8</td>\n",
       "      <td>5.3</td>\n",
       "      <td>3</td>\n",
       "      <td>167</td>\n",
       "      <td>3</td>\n",
       "      <td>0</td>\n",
       "      <td>0</td>\n",
       "      <td>sales</td>\n",
       "      <td>low</td>\n",
       "      <td>1</td>\n",
       "    </tr>\n",
       "    <tr>\n",
       "      <th>1</th>\n",
       "      <td>8.0</td>\n",
       "      <td>8.6</td>\n",
       "      <td>6</td>\n",
       "      <td>272</td>\n",
       "      <td>6</td>\n",
       "      <td>0</td>\n",
       "      <td>0</td>\n",
       "      <td>sales</td>\n",
       "      <td>medium</td>\n",
       "      <td>1</td>\n",
       "    </tr>\n",
       "    <tr>\n",
       "      <th>2</th>\n",
       "      <td>1.1</td>\n",
       "      <td>8.8</td>\n",
       "      <td>8</td>\n",
       "      <td>282</td>\n",
       "      <td>4</td>\n",
       "      <td>0</td>\n",
       "      <td>0</td>\n",
       "      <td>sales</td>\n",
       "      <td>medium</td>\n",
       "      <td>1</td>\n",
       "    </tr>\n",
       "    <tr>\n",
       "      <th>3</th>\n",
       "      <td>3.7</td>\n",
       "      <td>5.2</td>\n",
       "      <td>3</td>\n",
       "      <td>169</td>\n",
       "      <td>3</td>\n",
       "      <td>0</td>\n",
       "      <td>0</td>\n",
       "      <td>sales</td>\n",
       "      <td>low</td>\n",
       "      <td>1</td>\n",
       "    </tr>\n",
       "    <tr>\n",
       "      <th>4</th>\n",
       "      <td>4.1</td>\n",
       "      <td>5.0</td>\n",
       "      <td>3</td>\n",
       "      <td>163</td>\n",
       "      <td>3</td>\n",
       "      <td>0</td>\n",
       "      <td>0</td>\n",
       "      <td>sales</td>\n",
       "      <td>low</td>\n",
       "      <td>1</td>\n",
       "    </tr>\n",
       "  </tbody>\n",
       "</table>\n",
       "</div>"
      ],
      "text/plain": [
       "   satisfaction_level  last_evaluation_rating  projects_worked_on  \\\n",
       "0                 3.8                     5.3                   3   \n",
       "1                 8.0                     8.6                   6   \n",
       "2                 1.1                     8.8                   8   \n",
       "3                 3.7                     5.2                   3   \n",
       "4                 4.1                     5.0                   3   \n",
       "\n",
       "   average_montly_hours  time_spend_company  Work_accident  \\\n",
       "0                   167                   3              0   \n",
       "1                   272                   6              0   \n",
       "2                   282                   4              0   \n",
       "3                   169                   3              0   \n",
       "4                   163                   3              0   \n",
       "\n",
       "   promotion_last_5years Department  salary  Attrition  \n",
       "0                      0      sales     low          1  \n",
       "1                      0      sales  medium          1  \n",
       "2                      0      sales  medium          1  \n",
       "3                      0      sales     low          1  \n",
       "4                      0      sales     low          1  "
      ]
     },
     "execution_count": 125,
     "metadata": {},
     "output_type": "execute_result"
    }
   ],
   "source": [
    "hr_data.head()"
   ]
  },
  {
   "cell_type": "markdown",
   "metadata": {},
   "source": [
    "# EDA"
   ]
  },
  {
   "cell_type": "code",
   "execution_count": 126,
   "metadata": {},
   "outputs": [
    {
     "data": {
      "text/plain": [
       "(25491, 10)"
      ]
     },
     "execution_count": 126,
     "metadata": {},
     "output_type": "execute_result"
    }
   ],
   "source": [
    "hr_data.shape"
   ]
  },
  {
   "cell_type": "code",
   "execution_count": 127,
   "metadata": {},
   "outputs": [
    {
     "data": {
      "text/plain": [
       "satisfaction_level        0\n",
       "last_evaluation_rating    0\n",
       "projects_worked_on        0\n",
       "average_montly_hours      0\n",
       "time_spend_company        0\n",
       "Work_accident             0\n",
       "promotion_last_5years     0\n",
       "Department                0\n",
       "salary                    0\n",
       "Attrition                 0\n",
       "dtype: int64"
      ]
     },
     "execution_count": 127,
     "metadata": {},
     "output_type": "execute_result"
    }
   ],
   "source": [
    "hr_data.isnull().sum()"
   ]
  },
  {
   "cell_type": "code",
   "execution_count": 128,
   "metadata": {},
   "outputs": [
    {
     "name": "stdout",
     "output_type": "stream",
     "text": [
      "<class 'pandas.core.frame.DataFrame'>\n",
      "RangeIndex: 25491 entries, 0 to 25490\n",
      "Data columns (total 10 columns):\n",
      " #   Column                  Non-Null Count  Dtype  \n",
      "---  ------                  --------------  -----  \n",
      " 0   satisfaction_level      25491 non-null  float64\n",
      " 1   last_evaluation_rating  25491 non-null  float64\n",
      " 2   projects_worked_on      25491 non-null  int64  \n",
      " 3   average_montly_hours    25491 non-null  int64  \n",
      " 4   time_spend_company      25491 non-null  int64  \n",
      " 5   Work_accident           25491 non-null  int64  \n",
      " 6   promotion_last_5years   25491 non-null  int64  \n",
      " 7   Department              25491 non-null  object \n",
      " 8   salary                  25491 non-null  object \n",
      " 9   Attrition               25491 non-null  int64  \n",
      "dtypes: float64(2), int64(6), object(2)\n",
      "memory usage: 1.9+ MB\n"
     ]
    }
   ],
   "source": [
    "hr_data.info()"
   ]
  },
  {
   "cell_type": "code",
   "execution_count": 129,
   "metadata": {},
   "outputs": [
    {
     "data": {
      "text/html": [
       "<div>\n",
       "<style scoped>\n",
       "    .dataframe tbody tr th:only-of-type {\n",
       "        vertical-align: middle;\n",
       "    }\n",
       "\n",
       "    .dataframe tbody tr th {\n",
       "        vertical-align: top;\n",
       "    }\n",
       "\n",
       "    .dataframe thead th {\n",
       "        text-align: right;\n",
       "    }\n",
       "</style>\n",
       "<table border=\"1\" class=\"dataframe\">\n",
       "  <thead>\n",
       "    <tr style=\"text-align: right;\">\n",
       "      <th></th>\n",
       "      <th>count</th>\n",
       "      <th>mean</th>\n",
       "      <th>std</th>\n",
       "      <th>min</th>\n",
       "      <th>25%</th>\n",
       "      <th>50%</th>\n",
       "      <th>75%</th>\n",
       "      <th>max</th>\n",
       "    </tr>\n",
       "  </thead>\n",
       "  <tbody>\n",
       "    <tr>\n",
       "      <th>satisfaction_level</th>\n",
       "      <td>25491.0</td>\n",
       "      <td>6.137704</td>\n",
       "      <td>2.486316</td>\n",
       "      <td>0.9</td>\n",
       "      <td>4.4</td>\n",
       "      <td>6.5</td>\n",
       "      <td>8.2</td>\n",
       "      <td>10.0</td>\n",
       "    </tr>\n",
       "    <tr>\n",
       "      <th>last_evaluation_rating</th>\n",
       "      <td>25491.0</td>\n",
       "      <td>7.167832</td>\n",
       "      <td>1.710754</td>\n",
       "      <td>3.6</td>\n",
       "      <td>5.6</td>\n",
       "      <td>7.2</td>\n",
       "      <td>8.7</td>\n",
       "      <td>10.0</td>\n",
       "    </tr>\n",
       "    <tr>\n",
       "      <th>projects_worked_on</th>\n",
       "      <td>25491.0</td>\n",
       "      <td>4.215174</td>\n",
       "      <td>1.324228</td>\n",
       "      <td>2.0</td>\n",
       "      <td>3.0</td>\n",
       "      <td>4.0</td>\n",
       "      <td>5.0</td>\n",
       "      <td>8.0</td>\n",
       "    </tr>\n",
       "    <tr>\n",
       "      <th>average_montly_hours</th>\n",
       "      <td>25491.0</td>\n",
       "      <td>205.286846</td>\n",
       "      <td>50.182916</td>\n",
       "      <td>96.0</td>\n",
       "      <td>160.0</td>\n",
       "      <td>204.0</td>\n",
       "      <td>249.0</td>\n",
       "      <td>320.0</td>\n",
       "    </tr>\n",
       "    <tr>\n",
       "      <th>time_spend_company</th>\n",
       "      <td>25491.0</td>\n",
       "      <td>3.497156</td>\n",
       "      <td>1.457715</td>\n",
       "      <td>2.0</td>\n",
       "      <td>3.0</td>\n",
       "      <td>3.0</td>\n",
       "      <td>4.0</td>\n",
       "      <td>10.0</td>\n",
       "    </tr>\n",
       "    <tr>\n",
       "      <th>Work_accident</th>\n",
       "      <td>25491.0</td>\n",
       "      <td>0.146012</td>\n",
       "      <td>0.353125</td>\n",
       "      <td>0.0</td>\n",
       "      <td>0.0</td>\n",
       "      <td>0.0</td>\n",
       "      <td>0.0</td>\n",
       "      <td>1.0</td>\n",
       "    </tr>\n",
       "    <tr>\n",
       "      <th>promotion_last_5years</th>\n",
       "      <td>25491.0</td>\n",
       "      <td>0.021419</td>\n",
       "      <td>0.144780</td>\n",
       "      <td>0.0</td>\n",
       "      <td>0.0</td>\n",
       "      <td>0.0</td>\n",
       "      <td>0.0</td>\n",
       "      <td>1.0</td>\n",
       "    </tr>\n",
       "    <tr>\n",
       "      <th>Attrition</th>\n",
       "      <td>25491.0</td>\n",
       "      <td>0.234985</td>\n",
       "      <td>0.423998</td>\n",
       "      <td>0.0</td>\n",
       "      <td>0.0</td>\n",
       "      <td>0.0</td>\n",
       "      <td>0.0</td>\n",
       "      <td>1.0</td>\n",
       "    </tr>\n",
       "  </tbody>\n",
       "</table>\n",
       "</div>"
      ],
      "text/plain": [
       "                          count        mean        std   min    25%    50%  \\\n",
       "satisfaction_level      25491.0    6.137704   2.486316   0.9    4.4    6.5   \n",
       "last_evaluation_rating  25491.0    7.167832   1.710754   3.6    5.6    7.2   \n",
       "projects_worked_on      25491.0    4.215174   1.324228   2.0    3.0    4.0   \n",
       "average_montly_hours    25491.0  205.286846  50.182916  96.0  160.0  204.0   \n",
       "time_spend_company      25491.0    3.497156   1.457715   2.0    3.0    3.0   \n",
       "Work_accident           25491.0    0.146012   0.353125   0.0    0.0    0.0   \n",
       "promotion_last_5years   25491.0    0.021419   0.144780   0.0    0.0    0.0   \n",
       "Attrition               25491.0    0.234985   0.423998   0.0    0.0    0.0   \n",
       "\n",
       "                          75%    max  \n",
       "satisfaction_level        8.2   10.0  \n",
       "last_evaluation_rating    8.7   10.0  \n",
       "projects_worked_on        5.0    8.0  \n",
       "average_montly_hours    249.0  320.0  \n",
       "time_spend_company        4.0   10.0  \n",
       "Work_accident             0.0    1.0  \n",
       "promotion_last_5years     0.0    1.0  \n",
       "Attrition                 0.0    1.0  "
      ]
     },
     "execution_count": 129,
     "metadata": {},
     "output_type": "execute_result"
    }
   ],
   "source": [
    "hr_data.describe().transpose()"
   ]
  },
  {
   "cell_type": "code",
   "execution_count": 130,
   "metadata": {},
   "outputs": [
    {
     "data": {
      "text/plain": [
       "array(['sales', 'accounting', 'hr', 'technical', 'support', 'management',\n",
       "       'IT', 'product_mng', 'marketing', 'RandD'], dtype=object)"
      ]
     },
     "execution_count": 130,
     "metadata": {},
     "output_type": "execute_result"
    }
   ],
   "source": [
    "hr_data['Department'].unique()"
   ]
  },
  {
   "cell_type": "markdown",
   "metadata": {},
   "source": [
    "We will combine \"technical\",\"support\" and \"IT\" into one department as they are similar domain"
   ]
  },
  {
   "cell_type": "code",
   "execution_count": 131,
   "metadata": {},
   "outputs": [],
   "source": [
    "hr_data['Department']=np.where(hr_data['Department'] =='support', 'technical', hr_data['Department'])\n",
    "hr_data['Department']=np.where(hr_data['Department'] =='IT', 'technical', hr_data['Department'])"
   ]
  },
  {
   "cell_type": "code",
   "execution_count": 132,
   "metadata": {},
   "outputs": [
    {
     "data": {
      "text/plain": [
       "array(['sales', 'accounting', 'hr', 'technical', 'management',\n",
       "       'product_mng', 'marketing', 'RandD'], dtype=object)"
      ]
     },
     "execution_count": 132,
     "metadata": {},
     "output_type": "execute_result"
    }
   ],
   "source": [
    "hr_data['Department'].unique()"
   ]
  },
  {
   "cell_type": "code",
   "execution_count": 133,
   "metadata": {},
   "outputs": [
    {
     "data": {
      "text/plain": [
       "0    19501\n",
       "1     5990\n",
       "Name: Attrition, dtype: int64"
      ]
     },
     "execution_count": 133,
     "metadata": {},
     "output_type": "execute_result"
    }
   ],
   "source": [
    "hr_data['Attrition'].value_counts()"
   ]
  },
  {
   "cell_type": "markdown",
   "metadata": {},
   "source": [
    "The dataset is imbalanced"
   ]
  },
  {
   "cell_type": "code",
   "execution_count": 134,
   "metadata": {},
   "outputs": [
    {
     "data": {
      "text/plain": [
       "technical      10570\n",
       "sales           6973\n",
       "product_mng     1514\n",
       "marketing       1455\n",
       "RandD           1335\n",
       "accounting      1316\n",
       "hr              1261\n",
       "management      1067\n",
       "Name: Department, dtype: int64"
      ]
     },
     "execution_count": 134,
     "metadata": {},
     "output_type": "execute_result"
    }
   ],
   "source": [
    "hr_data['Department'].value_counts()"
   ]
  },
  {
   "cell_type": "code",
   "execution_count": 135,
   "metadata": {},
   "outputs": [
    {
     "data": {
      "text/html": [
       "<div>\n",
       "<style scoped>\n",
       "    .dataframe tbody tr th:only-of-type {\n",
       "        vertical-align: middle;\n",
       "    }\n",
       "\n",
       "    .dataframe tbody tr th {\n",
       "        vertical-align: top;\n",
       "    }\n",
       "\n",
       "    .dataframe thead th {\n",
       "        text-align: right;\n",
       "    }\n",
       "</style>\n",
       "<table border=\"1\" class=\"dataframe\">\n",
       "  <thead>\n",
       "    <tr style=\"text-align: right;\">\n",
       "      <th></th>\n",
       "      <th>satisfaction_level</th>\n",
       "      <th>last_evaluation_rating</th>\n",
       "      <th>projects_worked_on</th>\n",
       "      <th>average_montly_hours</th>\n",
       "      <th>time_spend_company</th>\n",
       "      <th>Work_accident</th>\n",
       "      <th>promotion_last_5years</th>\n",
       "    </tr>\n",
       "    <tr>\n",
       "      <th>Attrition</th>\n",
       "      <th></th>\n",
       "      <th></th>\n",
       "      <th></th>\n",
       "      <th></th>\n",
       "      <th></th>\n",
       "      <th></th>\n",
       "      <th></th>\n",
       "    </tr>\n",
       "  </thead>\n",
       "  <tbody>\n",
       "    <tr>\n",
       "      <th>0</th>\n",
       "      <td>6.668899</td>\n",
       "      <td>7.159582</td>\n",
       "      <td>4.198041</td>\n",
       "      <td>203.199836</td>\n",
       "      <td>3.378647</td>\n",
       "      <td>0.176247</td>\n",
       "      <td>0.026665</td>\n",
       "    </tr>\n",
       "    <tr>\n",
       "      <th>1</th>\n",
       "      <td>4.408347</td>\n",
       "      <td>7.194691</td>\n",
       "      <td>4.270952</td>\n",
       "      <td>212.081302</td>\n",
       "      <td>3.882972</td>\n",
       "      <td>0.047579</td>\n",
       "      <td>0.004341</td>\n",
       "    </tr>\n",
       "  </tbody>\n",
       "</table>\n",
       "</div>"
      ],
      "text/plain": [
       "           satisfaction_level  last_evaluation_rating  projects_worked_on  \\\n",
       "Attrition                                                                   \n",
       "0                    6.668899                7.159582            4.198041   \n",
       "1                    4.408347                7.194691            4.270952   \n",
       "\n",
       "           average_montly_hours  time_spend_company  Work_accident  \\\n",
       "Attrition                                                            \n",
       "0                    203.199836            3.378647       0.176247   \n",
       "1                    212.081302            3.882972       0.047579   \n",
       "\n",
       "           promotion_last_5years  \n",
       "Attrition                         \n",
       "0                       0.026665  \n",
       "1                       0.004341  "
      ]
     },
     "execution_count": 135,
     "metadata": {},
     "output_type": "execute_result"
    }
   ],
   "source": [
    "hr_data.groupby('Attrition').mean()"
   ]
  },
  {
   "cell_type": "markdown",
   "metadata": {},
   "source": [
    "It shows that they who have left, have lesser satisfaction level than they who haven't left. Their average montly work hours were more and also they have got lesser promotion."
   ]
  },
  {
   "cell_type": "code",
   "execution_count": 136,
   "metadata": {},
   "outputs": [
    {
     "data": {
      "text/html": [
       "<div>\n",
       "<style scoped>\n",
       "    .dataframe tbody tr th:only-of-type {\n",
       "        vertical-align: middle;\n",
       "    }\n",
       "\n",
       "    .dataframe tbody tr th {\n",
       "        vertical-align: top;\n",
       "    }\n",
       "\n",
       "    .dataframe thead th {\n",
       "        text-align: right;\n",
       "    }\n",
       "</style>\n",
       "<table border=\"1\" class=\"dataframe\">\n",
       "  <thead>\n",
       "    <tr style=\"text-align: right;\">\n",
       "      <th></th>\n",
       "      <th>satisfaction_level</th>\n",
       "      <th>last_evaluation_rating</th>\n",
       "      <th>projects_worked_on</th>\n",
       "      <th>average_montly_hours</th>\n",
       "      <th>time_spend_company</th>\n",
       "      <th>Work_accident</th>\n",
       "      <th>promotion_last_5years</th>\n",
       "      <th>Attrition</th>\n",
       "    </tr>\n",
       "    <tr>\n",
       "      <th>Department</th>\n",
       "      <th></th>\n",
       "      <th></th>\n",
       "      <th></th>\n",
       "      <th></th>\n",
       "      <th></th>\n",
       "      <th></th>\n",
       "      <th></th>\n",
       "      <th></th>\n",
       "    </tr>\n",
       "  </thead>\n",
       "  <tbody>\n",
       "    <tr>\n",
       "      <th>RandD</th>\n",
       "      <td>6.186966</td>\n",
       "      <td>7.095356</td>\n",
       "      <td>4.250936</td>\n",
       "      <td>204.902622</td>\n",
       "      <td>3.361049</td>\n",
       "      <td>0.173783</td>\n",
       "      <td>0.034457</td>\n",
       "      <td>0.153558</td>\n",
       "    </tr>\n",
       "    <tr>\n",
       "      <th>accounting</th>\n",
       "      <td>5.835790</td>\n",
       "      <td>7.193845</td>\n",
       "      <td>4.224924</td>\n",
       "      <td>205.725684</td>\n",
       "      <td>3.530395</td>\n",
       "      <td>0.127660</td>\n",
       "      <td>0.018237</td>\n",
       "      <td>0.265957</td>\n",
       "    </tr>\n",
       "    <tr>\n",
       "      <th>hr</th>\n",
       "      <td>6.037272</td>\n",
       "      <td>7.072720</td>\n",
       "      <td>4.078509</td>\n",
       "      <td>203.311657</td>\n",
       "      <td>3.357653</td>\n",
       "      <td>0.122125</td>\n",
       "      <td>0.021412</td>\n",
       "      <td>0.283902</td>\n",
       "    </tr>\n",
       "    <tr>\n",
       "      <th>management</th>\n",
       "      <td>6.218932</td>\n",
       "      <td>7.247423</td>\n",
       "      <td>4.262418</td>\n",
       "      <td>205.244611</td>\n",
       "      <td>4.299906</td>\n",
       "      <td>0.160262</td>\n",
       "      <td>0.111528</td>\n",
       "      <td>0.134958</td>\n",
       "    </tr>\n",
       "    <tr>\n",
       "      <th>marketing</th>\n",
       "      <td>6.200756</td>\n",
       "      <td>7.165430</td>\n",
       "      <td>4.087973</td>\n",
       "      <td>203.987629</td>\n",
       "      <td>3.578694</td>\n",
       "      <td>0.158763</td>\n",
       "      <td>0.050172</td>\n",
       "      <td>0.229553</td>\n",
       "    </tr>\n",
       "    <tr>\n",
       "      <th>product_mng</th>\n",
       "      <td>6.200727</td>\n",
       "      <td>7.185535</td>\n",
       "      <td>4.223910</td>\n",
       "      <td>203.686262</td>\n",
       "      <td>3.456407</td>\n",
       "      <td>0.149934</td>\n",
       "      <td>0.000000</td>\n",
       "      <td>0.218626</td>\n",
       "    </tr>\n",
       "    <tr>\n",
       "      <th>sales</th>\n",
       "      <td>6.164850</td>\n",
       "      <td>7.110125</td>\n",
       "      <td>4.183995</td>\n",
       "      <td>205.039581</td>\n",
       "      <td>3.541804</td>\n",
       "      <td>0.143984</td>\n",
       "      <td>0.023519</td>\n",
       "      <td>0.240212</td>\n",
       "    </tr>\n",
       "    <tr>\n",
       "      <th>technical</th>\n",
       "      <td>6.137237</td>\n",
       "      <td>7.212923</td>\n",
       "      <td>4.257805</td>\n",
       "      <td>206.091864</td>\n",
       "      <td>3.410974</td>\n",
       "      <td>0.145222</td>\n",
       "      <td>0.008798</td>\n",
       "      <td>0.245317</td>\n",
       "    </tr>\n",
       "  </tbody>\n",
       "</table>\n",
       "</div>"
      ],
      "text/plain": [
       "             satisfaction_level  last_evaluation_rating  projects_worked_on  \\\n",
       "Department                                                                    \n",
       "RandD                  6.186966                7.095356            4.250936   \n",
       "accounting             5.835790                7.193845            4.224924   \n",
       "hr                     6.037272                7.072720            4.078509   \n",
       "management             6.218932                7.247423            4.262418   \n",
       "marketing              6.200756                7.165430            4.087973   \n",
       "product_mng            6.200727                7.185535            4.223910   \n",
       "sales                  6.164850                7.110125            4.183995   \n",
       "technical              6.137237                7.212923            4.257805   \n",
       "\n",
       "             average_montly_hours  time_spend_company  Work_accident  \\\n",
       "Department                                                             \n",
       "RandD                  204.902622            3.361049       0.173783   \n",
       "accounting             205.725684            3.530395       0.127660   \n",
       "hr                     203.311657            3.357653       0.122125   \n",
       "management             205.244611            4.299906       0.160262   \n",
       "marketing              203.987629            3.578694       0.158763   \n",
       "product_mng            203.686262            3.456407       0.149934   \n",
       "sales                  205.039581            3.541804       0.143984   \n",
       "technical              206.091864            3.410974       0.145222   \n",
       "\n",
       "             promotion_last_5years  Attrition  \n",
       "Department                                     \n",
       "RandD                     0.034457   0.153558  \n",
       "accounting                0.018237   0.265957  \n",
       "hr                        0.021412   0.283902  \n",
       "management                0.111528   0.134958  \n",
       "marketing                 0.050172   0.229553  \n",
       "product_mng               0.000000   0.218626  \n",
       "sales                     0.023519   0.240212  \n",
       "technical                 0.008798   0.245317  "
      ]
     },
     "execution_count": 136,
     "metadata": {},
     "output_type": "execute_result"
    }
   ],
   "source": [
    "hr_data.groupby('Department').mean()"
   ]
  },
  {
   "cell_type": "markdown",
   "metadata": {},
   "source": [
    "This shows departmentwise information"
   ]
  },
  {
   "cell_type": "code",
   "execution_count": 137,
   "metadata": {},
   "outputs": [
    {
     "data": {
      "text/html": [
       "<div>\n",
       "<style scoped>\n",
       "    .dataframe tbody tr th:only-of-type {\n",
       "        vertical-align: middle;\n",
       "    }\n",
       "\n",
       "    .dataframe tbody tr th {\n",
       "        vertical-align: top;\n",
       "    }\n",
       "\n",
       "    .dataframe thead th {\n",
       "        text-align: right;\n",
       "    }\n",
       "</style>\n",
       "<table border=\"1\" class=\"dataframe\">\n",
       "  <thead>\n",
       "    <tr style=\"text-align: right;\">\n",
       "      <th></th>\n",
       "      <th>satisfaction_level</th>\n",
       "      <th>last_evaluation_rating</th>\n",
       "      <th>projects_worked_on</th>\n",
       "      <th>average_montly_hours</th>\n",
       "      <th>time_spend_company</th>\n",
       "      <th>Work_accident</th>\n",
       "      <th>promotion_last_5years</th>\n",
       "      <th>Attrition</th>\n",
       "    </tr>\n",
       "    <tr>\n",
       "      <th>salary</th>\n",
       "      <th></th>\n",
       "      <th></th>\n",
       "      <th></th>\n",
       "      <th></th>\n",
       "      <th></th>\n",
       "      <th></th>\n",
       "      <th></th>\n",
       "      <th></th>\n",
       "    </tr>\n",
       "  </thead>\n",
       "  <tbody>\n",
       "    <tr>\n",
       "      <th>high</th>\n",
       "      <td>6.386124</td>\n",
       "      <td>7.049012</td>\n",
       "      <td>4.170743</td>\n",
       "      <td>203.784102</td>\n",
       "      <td>3.686736</td>\n",
       "      <td>0.153340</td>\n",
       "      <td>0.060207</td>\n",
       "      <td>0.066792</td>\n",
       "    </tr>\n",
       "    <tr>\n",
       "      <th>low</th>\n",
       "      <td>6.019963</td>\n",
       "      <td>7.180714</td>\n",
       "      <td>4.215674</td>\n",
       "      <td>205.429090</td>\n",
       "      <td>3.441506</td>\n",
       "      <td>0.144884</td>\n",
       "      <td>0.008385</td>\n",
       "      <td>0.291945</td>\n",
       "    </tr>\n",
       "    <tr>\n",
       "      <th>medium</th>\n",
       "      <td>6.222742</td>\n",
       "      <td>7.176300</td>\n",
       "      <td>4.223226</td>\n",
       "      <td>205.417351</td>\n",
       "      <td>3.523353</td>\n",
       "      <td>0.145868</td>\n",
       "      <td>0.028644</td>\n",
       "      <td>0.203156</td>\n",
       "    </tr>\n",
       "  </tbody>\n",
       "</table>\n",
       "</div>"
      ],
      "text/plain": [
       "        satisfaction_level  last_evaluation_rating  projects_worked_on  \\\n",
       "salary                                                                   \n",
       "high              6.386124                7.049012            4.170743   \n",
       "low               6.019963                7.180714            4.215674   \n",
       "medium            6.222742                7.176300            4.223226   \n",
       "\n",
       "        average_montly_hours  time_spend_company  Work_accident  \\\n",
       "salary                                                            \n",
       "high              203.784102            3.686736       0.153340   \n",
       "low               205.429090            3.441506       0.144884   \n",
       "medium            205.417351            3.523353       0.145868   \n",
       "\n",
       "        promotion_last_5years  Attrition  \n",
       "salary                                    \n",
       "high                 0.060207   0.066792  \n",
       "low                  0.008385   0.291945  \n",
       "medium               0.028644   0.203156  "
      ]
     },
     "execution_count": 137,
     "metadata": {},
     "output_type": "execute_result"
    }
   ],
   "source": [
    "hr_data.groupby('salary').mean()"
   ]
  },
  {
   "cell_type": "markdown",
   "metadata": {},
   "source": [
    "This shows salary wise information"
   ]
  },
  {
   "cell_type": "code",
   "execution_count": 138,
   "metadata": {},
   "outputs": [
    {
     "data": {
      "text/plain": [
       "<AxesSubplot:>"
      ]
     },
     "execution_count": 138,
     "metadata": {},
     "output_type": "execute_result"
    },
    {
     "data": {
      "image/png": "[encoded data removed]",
      "text/plain": [
       "<Figure size 720x432 with 2 Axes>"
      ]
     },
     "metadata": {
      "needs_background": "light"
     },
     "output_type": "display_data"
    }
   ],
   "source": [
    "plt.figure(figsize=(10,6))\n",
    "sns.heatmap(hr_data.corr(),annot=True)"
   ]
  },
  {
   "cell_type": "markdown",
   "metadata": {},
   "source": [
    "It shows that employee attrition have comperatively higher correlation with time soent in company, average monthly hours and projects worked on"
   ]
  },
  {
   "cell_type": "code",
   "execution_count": 139,
   "metadata": {},
   "outputs": [
    {
     "data": {
      "text/html": [
       "<div>\n",
       "<style scoped>\n",
       "    .dataframe tbody tr th:only-of-type {\n",
       "        vertical-align: middle;\n",
       "    }\n",
       "\n",
       "    .dataframe tbody tr th {\n",
       "        vertical-align: top;\n",
       "    }\n",
       "\n",
       "    .dataframe thead th {\n",
       "        text-align: right;\n",
       "    }\n",
       "</style>\n",
       "<table border=\"1\" class=\"dataframe\">\n",
       "  <thead>\n",
       "    <tr style=\"text-align: right;\">\n",
       "      <th>Attrition</th>\n",
       "      <th>0</th>\n",
       "      <th>1</th>\n",
       "    </tr>\n",
       "    <tr>\n",
       "      <th>Department</th>\n",
       "      <th></th>\n",
       "      <th></th>\n",
       "    </tr>\n",
       "  </thead>\n",
       "  <tbody>\n",
       "    <tr>\n",
       "      <th>RandD</th>\n",
       "      <td>1130</td>\n",
       "      <td>205</td>\n",
       "    </tr>\n",
       "    <tr>\n",
       "      <th>accounting</th>\n",
       "      <td>966</td>\n",
       "      <td>350</td>\n",
       "    </tr>\n",
       "    <tr>\n",
       "      <th>hr</th>\n",
       "      <td>903</td>\n",
       "      <td>358</td>\n",
       "    </tr>\n",
       "    <tr>\n",
       "      <th>management</th>\n",
       "      <td>923</td>\n",
       "      <td>144</td>\n",
       "    </tr>\n",
       "    <tr>\n",
       "      <th>marketing</th>\n",
       "      <td>1121</td>\n",
       "      <td>334</td>\n",
       "    </tr>\n",
       "    <tr>\n",
       "      <th>product_mng</th>\n",
       "      <td>1183</td>\n",
       "      <td>331</td>\n",
       "    </tr>\n",
       "    <tr>\n",
       "      <th>sales</th>\n",
       "      <td>5298</td>\n",
       "      <td>1675</td>\n",
       "    </tr>\n",
       "    <tr>\n",
       "      <th>technical</th>\n",
       "      <td>7977</td>\n",
       "      <td>2593</td>\n",
       "    </tr>\n",
       "  </tbody>\n",
       "</table>\n",
       "</div>"
      ],
      "text/plain": [
       "Attrition       0     1\n",
       "Department             \n",
       "RandD        1130   205\n",
       "accounting    966   350\n",
       "hr            903   358\n",
       "management    923   144\n",
       "marketing    1121   334\n",
       "product_mng  1183   331\n",
       "sales        5298  1675\n",
       "technical    7977  2593"
      ]
     },
     "execution_count": 139,
     "metadata": {},
     "output_type": "execute_result"
    }
   ],
   "source": [
    "prop = pd.crosstab(hr_data.Department, hr_data.Attrition)\n",
    "prop"
   ]
  },
  {
   "cell_type": "code",
   "execution_count": 140,
   "metadata": {},
   "outputs": [
    {
     "data": {
      "text/plain": [
       "Int64Index([0, 1], dtype='int64', name='Attrition')"
      ]
     },
     "execution_count": 140,
     "metadata": {},
     "output_type": "execute_result"
    }
   ],
   "source": [
    "prop.columns"
   ]
  },
  {
   "cell_type": "code",
   "execution_count": 141,
   "metadata": {},
   "outputs": [],
   "source": [
    "prop['proportion of employee left'] = prop[1] / (prop[0]+prop[1])"
   ]
  },
  {
   "cell_type": "code",
   "execution_count": 142,
   "metadata": {},
   "outputs": [
    {
     "data": {
      "text/html": [
       "<div>\n",
       "<style scoped>\n",
       "    .dataframe tbody tr th:only-of-type {\n",
       "        vertical-align: middle;\n",
       "    }\n",
       "\n",
       "    .dataframe tbody tr th {\n",
       "        vertical-align: top;\n",
       "    }\n",
       "\n",
       "    .dataframe thead th {\n",
       "        text-align: right;\n",
       "    }\n",
       "</style>\n",
       "<table border=\"1\" class=\"dataframe\">\n",
       "  <thead>\n",
       "    <tr style=\"text-align: right;\">\n",
       "      <th>Attrition</th>\n",
       "      <th>0</th>\n",
       "      <th>1</th>\n",
       "      <th>proportion of employee left</th>\n",
       "    </tr>\n",
       "    <tr>\n",
       "      <th>Department</th>\n",
       "      <th></th>\n",
       "      <th></th>\n",
       "      <th></th>\n",
       "    </tr>\n",
       "  </thead>\n",
       "  <tbody>\n",
       "    <tr>\n",
       "      <th>RandD</th>\n",
       "      <td>1130</td>\n",
       "      <td>205</td>\n",
       "      <td>0.153558</td>\n",
       "    </tr>\n",
       "    <tr>\n",
       "      <th>accounting</th>\n",
       "      <td>966</td>\n",
       "      <td>350</td>\n",
       "      <td>0.265957</td>\n",
       "    </tr>\n",
       "    <tr>\n",
       "      <th>hr</th>\n",
       "      <td>903</td>\n",
       "      <td>358</td>\n",
       "      <td>0.283902</td>\n",
       "    </tr>\n",
       "    <tr>\n",
       "      <th>management</th>\n",
       "      <td>923</td>\n",
       "      <td>144</td>\n",
       "      <td>0.134958</td>\n",
       "    </tr>\n",
       "    <tr>\n",
       "      <th>marketing</th>\n",
       "      <td>1121</td>\n",
       "      <td>334</td>\n",
       "      <td>0.229553</td>\n",
       "    </tr>\n",
       "    <tr>\n",
       "      <th>product_mng</th>\n",
       "      <td>1183</td>\n",
       "      <td>331</td>\n",
       "      <td>0.218626</td>\n",
       "    </tr>\n",
       "    <tr>\n",
       "      <th>sales</th>\n",
       "      <td>5298</td>\n",
       "      <td>1675</td>\n",
       "      <td>0.240212</td>\n",
       "    </tr>\n",
       "    <tr>\n",
       "      <th>technical</th>\n",
       "      <td>7977</td>\n",
       "      <td>2593</td>\n",
       "      <td>0.245317</td>\n",
       "    </tr>\n",
       "  </tbody>\n",
       "</table>\n",
       "</div>"
      ],
      "text/plain": [
       "Attrition       0     1  proportion of employee left\n",
       "Department                                          \n",
       "RandD        1130   205                     0.153558\n",
       "accounting    966   350                     0.265957\n",
       "hr            903   358                     0.283902\n",
       "management    923   144                     0.134958\n",
       "marketing    1121   334                     0.229553\n",
       "product_mng  1183   331                     0.218626\n",
       "sales        5298  1675                     0.240212\n",
       "technical    7977  2593                     0.245317"
      ]
     },
     "execution_count": 142,
     "metadata": {},
     "output_type": "execute_result"
    }
   ],
   "source": [
    "prop"
   ]
  },
  {
   "cell_type": "markdown",
   "metadata": {},
   "source": [
    "It shows the number of employees left by department. Most number of employees have left from technical and sales department. Proportionwise, HR, Accounting, Sales and Technical are in top"
   ]
  },
  {
   "cell_type": "code",
   "execution_count": 143,
   "metadata": {},
   "outputs": [
    {
     "data": {
      "text/plain": [
       "<AxesSubplot:xlabel='Department', ylabel='count'>"
      ]
     },
     "execution_count": 143,
     "metadata": {},
     "output_type": "execute_result"
    },
    {
     "data": {
      "image/png": "[encoded data removed]",
      "text/plain": [
       "<Figure size 864x432 with 1 Axes>"
      ]
     },
     "metadata": {
      "needs_background": "light"
     },
     "output_type": "display_data"
    }
   ],
   "source": [
    "plt.figure(figsize=(12,6))\n",
    "sns.countplot(x='Department', hue='Attrition', data=hr_data)"
   ]
  },
  {
   "cell_type": "code",
   "execution_count": 144,
   "metadata": {},
   "outputs": [
    {
     "data": {
      "text/plain": [
       "<AxesSubplot:xlabel='salary', ylabel='count'>"
      ]
     },
     "execution_count": 144,
     "metadata": {},
     "output_type": "execute_result"
    },
    {
     "data": {
      "image/png": "[encoded data removed]",
      "text/plain": [
       "<Figure size 432x288 with 1 Axes>"
      ]
     },
     "metadata": {
      "needs_background": "light"
     },
     "output_type": "display_data"
    }
   ],
   "source": [
    "sns.countplot(x='salary', hue='Attrition', data=hr_data)"
   ]
  },
  {
   "cell_type": "code",
   "execution_count": 145,
   "metadata": {},
   "outputs": [
    {
     "data": {
      "text/plain": [
       "<AxesSubplot:xlabel='promotion_last_5years', ylabel='count'>"
      ]
     },
     "execution_count": 145,
     "metadata": {},
     "output_type": "execute_result"
    },
    {
     "data": {
      "image/png": "[encoded data removed]",
      "text/plain": [
       "<Figure size 432x288 with 1 Axes>"
      ]
     },
     "metadata": {
      "needs_background": "light"
     },
     "output_type": "display_data"
    }
   ],
   "source": [
    "sns.countplot(x='promotion_last_5years', data=hr_data)"
   ]
  },
  {
   "cell_type": "markdown",
   "metadata": {},
   "source": [
    "In last 5 years, employees have hardly get any promotion."
   ]
  },
  {
   "cell_type": "code",
   "execution_count": 146,
   "metadata": {},
   "outputs": [
    {
     "data": {
      "text/plain": [
       "<AxesSubplot:xlabel='Work_accident', ylabel='count'>"
      ]
     },
     "execution_count": 146,
     "metadata": {},
     "output_type": "execute_result"
    },
    {
     "data": {
      "image/png": "[encoded data removed]",
      "text/plain": [
       "<Figure size 432x288 with 1 Axes>"
      ]
     },
     "metadata": {
      "needs_background": "light"
     },
     "output_type": "display_data"
    }
   ],
   "source": [
    "sns.countplot(x='Work_accident', data=hr_data)"
   ]
  },
  {
   "cell_type": "markdown",
   "metadata": {},
   "source": [
    "Most of the employees haven't met any work accident"
   ]
  },
  {
   "cell_type": "code",
   "execution_count": 147,
   "metadata": {},
   "outputs": [
    {
     "name": "stderr",
     "output_type": "stream",
     "text": [
      "/opt/anaconda3/lib/python3.8/site-packages/seaborn/distributions.py:2551: FutureWarning: `distplot` is a deprecated function and will be removed in a future version. Please adapt your code to use either `displot` (a figure-level function with similar flexibility) or `histplot` (an axes-level function for histograms).\n",
      "  warnings.warn(msg, FutureWarning)\n"
     ]
    },
    {
     "data": {
      "text/plain": [
       "<AxesSubplot:xlabel='projects_worked_on', ylabel='Density'>"
      ]
     },
     "execution_count": 147,
     "metadata": {},
     "output_type": "execute_result"
    },
    {
     "data": {
      "image/png": "[encoded data removed]",
      "text/plain": [
       "<Figure size 432x288 with 1 Axes>"
      ]
     },
     "metadata": {
      "needs_background": "light"
     },
     "output_type": "display_data"
    }
   ],
   "source": [
    "sns.distplot(hr_data['projects_worked_on'])"
   ]
  },
  {
   "cell_type": "markdown",
   "metadata": {},
   "source": [
    "Emloyees who worked in projects have mostly worked in 3,4 or 5 projects"
   ]
  },
  {
   "cell_type": "markdown",
   "metadata": {},
   "source": [
    "# Data Preprocessing"
   ]
  },
  {
   "cell_type": "markdown",
   "metadata": {},
   "source": [
    "## One-hot encoding of the department column"
   ]
  },
  {
   "cell_type": "code",
   "execution_count": 148,
   "metadata": {},
   "outputs": [],
   "source": [
    "department = pd.get_dummies(hr_data['Department'],drop_first=True)"
   ]
  },
  {
   "cell_type": "code",
   "execution_count": 149,
   "metadata": {},
   "outputs": [
    {
     "data": {
      "text/html": [
       "<div>\n",
       "<style scoped>\n",
       "    .dataframe tbody tr th:only-of-type {\n",
       "        vertical-align: middle;\n",
       "    }\n",
       "\n",
       "    .dataframe tbody tr th {\n",
       "        vertical-align: top;\n",
       "    }\n",
       "\n",
       "    .dataframe thead th {\n",
       "        text-align: right;\n",
       "    }\n",
       "</style>\n",
       "<table border=\"1\" class=\"dataframe\">\n",
       "  <thead>\n",
       "    <tr style=\"text-align: right;\">\n",
       "      <th></th>\n",
       "      <th>accounting</th>\n",
       "      <th>hr</th>\n",
       "      <th>management</th>\n",
       "      <th>marketing</th>\n",
       "      <th>product_mng</th>\n",
       "      <th>sales</th>\n",
       "      <th>technical</th>\n",
       "    </tr>\n",
       "  </thead>\n",
       "  <tbody>\n",
       "    <tr>\n",
       "      <th>0</th>\n",
       "      <td>0</td>\n",
       "      <td>0</td>\n",
       "      <td>0</td>\n",
       "      <td>0</td>\n",
       "      <td>0</td>\n",
       "      <td>1</td>\n",
       "      <td>0</td>\n",
       "    </tr>\n",
       "    <tr>\n",
       "      <th>1</th>\n",
       "      <td>0</td>\n",
       "      <td>0</td>\n",
       "      <td>0</td>\n",
       "      <td>0</td>\n",
       "      <td>0</td>\n",
       "      <td>1</td>\n",
       "      <td>0</td>\n",
       "    </tr>\n",
       "    <tr>\n",
       "      <th>2</th>\n",
       "      <td>0</td>\n",
       "      <td>0</td>\n",
       "      <td>0</td>\n",
       "      <td>0</td>\n",
       "      <td>0</td>\n",
       "      <td>1</td>\n",
       "      <td>0</td>\n",
       "    </tr>\n",
       "    <tr>\n",
       "      <th>3</th>\n",
       "      <td>0</td>\n",
       "      <td>0</td>\n",
       "      <td>0</td>\n",
       "      <td>0</td>\n",
       "      <td>0</td>\n",
       "      <td>1</td>\n",
       "      <td>0</td>\n",
       "    </tr>\n",
       "    <tr>\n",
       "      <th>4</th>\n",
       "      <td>0</td>\n",
       "      <td>0</td>\n",
       "      <td>0</td>\n",
       "      <td>0</td>\n",
       "      <td>0</td>\n",
       "      <td>1</td>\n",
       "      <td>0</td>\n",
       "    </tr>\n",
       "  </tbody>\n",
       "</table>\n",
       "</div>"
      ],
      "text/plain": [
       "   accounting  hr  management  marketing  product_mng  sales  technical\n",
       "0           0   0           0          0            0      1          0\n",
       "1           0   0           0          0            0      1          0\n",
       "2           0   0           0          0            0      1          0\n",
       "3           0   0           0          0            0      1          0\n",
       "4           0   0           0          0            0      1          0"
      ]
     },
     "execution_count": 149,
     "metadata": {},
     "output_type": "execute_result"
    }
   ],
   "source": [
    "department.head()"
   ]
  },
  {
   "cell_type": "markdown",
   "metadata": {},
   "source": [
    "## One-hot encoding of the salary column"
   ]
  },
  {
   "cell_type": "code",
   "execution_count": 150,
   "metadata": {},
   "outputs": [],
   "source": [
    "salary = pd.get_dummies(hr_data['salary'],drop_first=True)"
   ]
  },
  {
   "cell_type": "code",
   "execution_count": 151,
   "metadata": {},
   "outputs": [
    {
     "data": {
      "text/html": [
       "<div>\n",
       "<style scoped>\n",
       "    .dataframe tbody tr th:only-of-type {\n",
       "        vertical-align: middle;\n",
       "    }\n",
       "\n",
       "    .dataframe tbody tr th {\n",
       "        vertical-align: top;\n",
       "    }\n",
       "\n",
       "    .dataframe thead th {\n",
       "        text-align: right;\n",
       "    }\n",
       "</style>\n",
       "<table border=\"1\" class=\"dataframe\">\n",
       "  <thead>\n",
       "    <tr style=\"text-align: right;\">\n",
       "      <th></th>\n",
       "      <th>low</th>\n",
       "      <th>medium</th>\n",
       "    </tr>\n",
       "  </thead>\n",
       "  <tbody>\n",
       "    <tr>\n",
       "      <th>0</th>\n",
       "      <td>1</td>\n",
       "      <td>0</td>\n",
       "    </tr>\n",
       "    <tr>\n",
       "      <th>1</th>\n",
       "      <td>0</td>\n",
       "      <td>1</td>\n",
       "    </tr>\n",
       "    <tr>\n",
       "      <th>2</th>\n",
       "      <td>0</td>\n",
       "      <td>1</td>\n",
       "    </tr>\n",
       "    <tr>\n",
       "      <th>3</th>\n",
       "      <td>1</td>\n",
       "      <td>0</td>\n",
       "    </tr>\n",
       "    <tr>\n",
       "      <th>4</th>\n",
       "      <td>1</td>\n",
       "      <td>0</td>\n",
       "    </tr>\n",
       "  </tbody>\n",
       "</table>\n",
       "</div>"
      ],
      "text/plain": [
       "   low  medium\n",
       "0    1       0\n",
       "1    0       1\n",
       "2    0       1\n",
       "3    1       0\n",
       "4    1       0"
      ]
     },
     "execution_count": 151,
     "metadata": {},
     "output_type": "execute_result"
    }
   ],
   "source": [
    "salary.head()"
   ]
  },
  {
   "cell_type": "code",
   "execution_count": 152,
   "metadata": {},
   "outputs": [],
   "source": [
    "hr_data = pd.concat([hr_data,department,salary],axis=1)"
   ]
  },
  {
   "cell_type": "code",
   "execution_count": 153,
   "metadata": {},
   "outputs": [
    {
     "data": {
      "text/html": [
       "<div>\n",
       "<style scoped>\n",
       "    .dataframe tbody tr th:only-of-type {\n",
       "        vertical-align: middle;\n",
       "    }\n",
       "\n",
       "    .dataframe tbody tr th {\n",
       "        vertical-align: top;\n",
       "    }\n",
       "\n",
       "    .dataframe thead th {\n",
       "        text-align: right;\n",
       "    }\n",
       "</style>\n",
       "<table border=\"1\" class=\"dataframe\">\n",
       "  <thead>\n",
       "    <tr style=\"text-align: right;\">\n",
       "      <th></th>\n",
       "      <th>satisfaction_level</th>\n",
       "      <th>last_evaluation_rating</th>\n",
       "      <th>projects_worked_on</th>\n",
       "      <th>average_montly_hours</th>\n",
       "      <th>time_spend_company</th>\n",
       "      <th>Work_accident</th>\n",
       "      <th>promotion_last_5years</th>\n",
       "      <th>Department</th>\n",
       "      <th>salary</th>\n",
       "      <th>Attrition</th>\n",
       "      <th>accounting</th>\n",
       "      <th>hr</th>\n",
       "      <th>management</th>\n",
       "      <th>marketing</th>\n",
       "      <th>product_mng</th>\n",
       "      <th>sales</th>\n",
       "      <th>technical</th>\n",
       "      <th>low</th>\n",
       "      <th>medium</th>\n",
       "    </tr>\n",
       "  </thead>\n",
       "  <tbody>\n",
       "    <tr>\n",
       "      <th>0</th>\n",
       "      <td>3.8</td>\n",
       "      <td>5.3</td>\n",
       "      <td>3</td>\n",
       "      <td>167</td>\n",
       "      <td>3</td>\n",
       "      <td>0</td>\n",
       "      <td>0</td>\n",
       "      <td>sales</td>\n",
       "      <td>low</td>\n",
       "      <td>1</td>\n",
       "      <td>0</td>\n",
       "      <td>0</td>\n",
       "      <td>0</td>\n",
       "      <td>0</td>\n",
       "      <td>0</td>\n",
       "      <td>1</td>\n",
       "      <td>0</td>\n",
       "      <td>1</td>\n",
       "      <td>0</td>\n",
       "    </tr>\n",
       "    <tr>\n",
       "      <th>1</th>\n",
       "      <td>8.0</td>\n",
       "      <td>8.6</td>\n",
       "      <td>6</td>\n",
       "      <td>272</td>\n",
       "      <td>6</td>\n",
       "      <td>0</td>\n",
       "      <td>0</td>\n",
       "      <td>sales</td>\n",
       "      <td>medium</td>\n",
       "      <td>1</td>\n",
       "      <td>0</td>\n",
       "      <td>0</td>\n",
       "      <td>0</td>\n",
       "      <td>0</td>\n",
       "      <td>0</td>\n",
       "      <td>1</td>\n",
       "      <td>0</td>\n",
       "      <td>0</td>\n",
       "      <td>1</td>\n",
       "    </tr>\n",
       "    <tr>\n",
       "      <th>2</th>\n",
       "      <td>1.1</td>\n",
       "      <td>8.8</td>\n",
       "      <td>8</td>\n",
       "      <td>282</td>\n",
       "      <td>4</td>\n",
       "      <td>0</td>\n",
       "      <td>0</td>\n",
       "      <td>sales</td>\n",
       "      <td>medium</td>\n",
       "      <td>1</td>\n",
       "      <td>0</td>\n",
       "      <td>0</td>\n",
       "      <td>0</td>\n",
       "      <td>0</td>\n",
       "      <td>0</td>\n",
       "      <td>1</td>\n",
       "      <td>0</td>\n",
       "      <td>0</td>\n",
       "      <td>1</td>\n",
       "    </tr>\n",
       "    <tr>\n",
       "      <th>3</th>\n",
       "      <td>3.7</td>\n",
       "      <td>5.2</td>\n",
       "      <td>3</td>\n",
       "      <td>169</td>\n",
       "      <td>3</td>\n",
       "      <td>0</td>\n",
       "      <td>0</td>\n",
       "      <td>sales</td>\n",
       "      <td>low</td>\n",
       "      <td>1</td>\n",
       "      <td>0</td>\n",
       "      <td>0</td>\n",
       "      <td>0</td>\n",
       "      <td>0</td>\n",
       "      <td>0</td>\n",
       "      <td>1</td>\n",
       "      <td>0</td>\n",
       "      <td>1</td>\n",
       "      <td>0</td>\n",
       "    </tr>\n",
       "    <tr>\n",
       "      <th>4</th>\n",
       "      <td>4.1</td>\n",
       "      <td>5.0</td>\n",
       "      <td>3</td>\n",
       "      <td>163</td>\n",
       "      <td>3</td>\n",
       "      <td>0</td>\n",
       "      <td>0</td>\n",
       "      <td>sales</td>\n",
       "      <td>low</td>\n",
       "      <td>1</td>\n",
       "      <td>0</td>\n",
       "      <td>0</td>\n",
       "      <td>0</td>\n",
       "      <td>0</td>\n",
       "      <td>0</td>\n",
       "      <td>1</td>\n",
       "      <td>0</td>\n",
       "      <td>1</td>\n",
       "      <td>0</td>\n",
       "    </tr>\n",
       "  </tbody>\n",
       "</table>\n",
       "</div>"
      ],
      "text/plain": [
       "   satisfaction_level  last_evaluation_rating  projects_worked_on  \\\n",
       "0                 3.8                     5.3                   3   \n",
       "1                 8.0                     8.6                   6   \n",
       "2                 1.1                     8.8                   8   \n",
       "3                 3.7                     5.2                   3   \n",
       "4                 4.1                     5.0                   3   \n",
       "\n",
       "   average_montly_hours  time_spend_company  Work_accident  \\\n",
       "0                   167                   3              0   \n",
       "1                   272                   6              0   \n",
       "2                   282                   4              0   \n",
       "3                   169                   3              0   \n",
       "4                   163                   3              0   \n",
       "\n",
       "   promotion_last_5years Department  salary  Attrition  accounting  hr  \\\n",
       "0                      0      sales     low          1           0   0   \n",
       "1                      0      sales  medium          1           0   0   \n",
       "2                      0      sales  medium          1           0   0   \n",
       "3                      0      sales     low          1           0   0   \n",
       "4                      0      sales     low          1           0   0   \n",
       "\n",
       "   management  marketing  product_mng  sales  technical  low  medium  \n",
       "0           0          0            0      1          0    1       0  \n",
       "1           0          0            0      1          0    0       1  \n",
       "2           0          0            0      1          0    0       1  \n",
       "3           0          0            0      1          0    1       0  \n",
       "4           0          0            0      1          0    1       0  "
      ]
     },
     "execution_count": 153,
     "metadata": {},
     "output_type": "execute_result"
    }
   ],
   "source": [
    "hr_data.head()"
   ]
  },
  {
   "cell_type": "code",
   "execution_count": 154,
   "metadata": {},
   "outputs": [],
   "source": [
    "hr_data = hr_data.drop(['Department', 'salary'],axis=1)"
   ]
  },
  {
   "cell_type": "code",
   "execution_count": 155,
   "metadata": {},
   "outputs": [
    {
     "data": {
      "text/html": [
       "<div>\n",
       "<style scoped>\n",
       "    .dataframe tbody tr th:only-of-type {\n",
       "        vertical-align: middle;\n",
       "    }\n",
       "\n",
       "    .dataframe tbody tr th {\n",
       "        vertical-align: top;\n",
       "    }\n",
       "\n",
       "    .dataframe thead th {\n",
       "        text-align: right;\n",
       "    }\n",
       "</style>\n",
       "<table border=\"1\" class=\"dataframe\">\n",
       "  <thead>\n",
       "    <tr style=\"text-align: right;\">\n",
       "      <th></th>\n",
       "      <th>satisfaction_level</th>\n",
       "      <th>last_evaluation_rating</th>\n",
       "      <th>projects_worked_on</th>\n",
       "      <th>average_montly_hours</th>\n",
       "      <th>time_spend_company</th>\n",
       "      <th>Work_accident</th>\n",
       "      <th>promotion_last_5years</th>\n",
       "      <th>Attrition</th>\n",
       "      <th>accounting</th>\n",
       "      <th>hr</th>\n",
       "      <th>management</th>\n",
       "      <th>marketing</th>\n",
       "      <th>product_mng</th>\n",
       "      <th>sales</th>\n",
       "      <th>technical</th>\n",
       "      <th>low</th>\n",
       "      <th>medium</th>\n",
       "    </tr>\n",
       "  </thead>\n",
       "  <tbody>\n",
       "    <tr>\n",
       "      <th>0</th>\n",
       "      <td>3.8</td>\n",
       "      <td>5.3</td>\n",
       "      <td>3</td>\n",
       "      <td>167</td>\n",
       "      <td>3</td>\n",
       "      <td>0</td>\n",
       "      <td>0</td>\n",
       "      <td>1</td>\n",
       "      <td>0</td>\n",
       "      <td>0</td>\n",
       "      <td>0</td>\n",
       "      <td>0</td>\n",
       "      <td>0</td>\n",
       "      <td>1</td>\n",
       "      <td>0</td>\n",
       "      <td>1</td>\n",
       "      <td>0</td>\n",
       "    </tr>\n",
       "    <tr>\n",
       "      <th>1</th>\n",
       "      <td>8.0</td>\n",
       "      <td>8.6</td>\n",
       "      <td>6</td>\n",
       "      <td>272</td>\n",
       "      <td>6</td>\n",
       "      <td>0</td>\n",
       "      <td>0</td>\n",
       "      <td>1</td>\n",
       "      <td>0</td>\n",
       "      <td>0</td>\n",
       "      <td>0</td>\n",
       "      <td>0</td>\n",
       "      <td>0</td>\n",
       "      <td>1</td>\n",
       "      <td>0</td>\n",
       "      <td>0</td>\n",
       "      <td>1</td>\n",
       "    </tr>\n",
       "    <tr>\n",
       "      <th>2</th>\n",
       "      <td>1.1</td>\n",
       "      <td>8.8</td>\n",
       "      <td>8</td>\n",
       "      <td>282</td>\n",
       "      <td>4</td>\n",
       "      <td>0</td>\n",
       "      <td>0</td>\n",
       "      <td>1</td>\n",
       "      <td>0</td>\n",
       "      <td>0</td>\n",
       "      <td>0</td>\n",
       "      <td>0</td>\n",
       "      <td>0</td>\n",
       "      <td>1</td>\n",
       "      <td>0</td>\n",
       "      <td>0</td>\n",
       "      <td>1</td>\n",
       "    </tr>\n",
       "    <tr>\n",
       "      <th>3</th>\n",
       "      <td>3.7</td>\n",
       "      <td>5.2</td>\n",
       "      <td>3</td>\n",
       "      <td>169</td>\n",
       "      <td>3</td>\n",
       "      <td>0</td>\n",
       "      <td>0</td>\n",
       "      <td>1</td>\n",
       "      <td>0</td>\n",
       "      <td>0</td>\n",
       "      <td>0</td>\n",
       "      <td>0</td>\n",
       "      <td>0</td>\n",
       "      <td>1</td>\n",
       "      <td>0</td>\n",
       "      <td>1</td>\n",
       "      <td>0</td>\n",
       "    </tr>\n",
       "    <tr>\n",
       "      <th>4</th>\n",
       "      <td>4.1</td>\n",
       "      <td>5.0</td>\n",
       "      <td>3</td>\n",
       "      <td>163</td>\n",
       "      <td>3</td>\n",
       "      <td>0</td>\n",
       "      <td>0</td>\n",
       "      <td>1</td>\n",
       "      <td>0</td>\n",
       "      <td>0</td>\n",
       "      <td>0</td>\n",
       "      <td>0</td>\n",
       "      <td>0</td>\n",
       "      <td>1</td>\n",
       "      <td>0</td>\n",
       "      <td>1</td>\n",
       "      <td>0</td>\n",
       "    </tr>\n",
       "  </tbody>\n",
       "</table>\n",
       "</div>"
      ],
      "text/plain": [
       "   satisfaction_level  last_evaluation_rating  projects_worked_on  \\\n",
       "0                 3.8                     5.3                   3   \n",
       "1                 8.0                     8.6                   6   \n",
       "2                 1.1                     8.8                   8   \n",
       "3                 3.7                     5.2                   3   \n",
       "4                 4.1                     5.0                   3   \n",
       "\n",
       "   average_montly_hours  time_spend_company  Work_accident  \\\n",
       "0                   167                   3              0   \n",
       "1                   272                   6              0   \n",
       "2                   282                   4              0   \n",
       "3                   169                   3              0   \n",
       "4                   163                   3              0   \n",
       "\n",
       "   promotion_last_5years  Attrition  accounting  hr  management  marketing  \\\n",
       "0                      0          1           0   0           0          0   \n",
       "1                      0          1           0   0           0          0   \n",
       "2                      0          1           0   0           0          0   \n",
       "3                      0          1           0   0           0          0   \n",
       "4                      0          1           0   0           0          0   \n",
       "\n",
       "   product_mng  sales  technical  low  medium  \n",
       "0            0      1          0    1       0  \n",
       "1            0      1          0    0       1  \n",
       "2            0      1          0    0       1  \n",
       "3            0      1          0    1       0  \n",
       "4            0      1          0    1       0  "
      ]
     },
     "execution_count": 155,
     "metadata": {},
     "output_type": "execute_result"
    }
   ],
   "source": [
    "hr_data.head()"
   ]
  },
  {
   "cell_type": "code",
   "execution_count": 156,
   "metadata": {},
   "outputs": [],
   "source": [
    "X = hr_data.drop('Attrition',axis=1).values\n",
    "y = hr_data['Attrition'].values"
   ]
  },
  {
   "cell_type": "markdown",
   "metadata": {},
   "source": [
    "## Train-test split"
   ]
  },
  {
   "cell_type": "code",
   "execution_count": 157,
   "metadata": {},
   "outputs": [],
   "source": [
    "from sklearn.model_selection import train_test_split"
   ]
  },
  {
   "cell_type": "code",
   "execution_count": 158,
   "metadata": {},
   "outputs": [],
   "source": [
    "X_train,X_test,y_train,y_test = train_test_split(X,y,test_size=0.2,random_state=1)"
   ]
  },
  {
   "cell_type": "code",
   "execution_count": 159,
   "metadata": {},
   "outputs": [
    {
     "data": {
      "text/plain": [
       "array([[ 5.4,  6.5,  3. , ...,  0. ,  0. ,  0. ],\n",
       "       [ 5.4, 10. ,  3. , ...,  1. ,  0. ,  1. ],\n",
       "       [ 6.8,  7.3,  5. , ...,  0. ,  1. ,  0. ],\n",
       "       ...,\n",
       "       [ 3. ,  4.7,  7. , ...,  0. ,  1. ,  0. ],\n",
       "       [ 0.9,  9.6,  7. , ...,  0. ,  1. ,  0. ],\n",
       "       [ 7.7,  8.7,  6. , ...,  0. ,  0. ,  1. ]])"
      ]
     },
     "execution_count": 159,
     "metadata": {},
     "output_type": "execute_result"
    }
   ],
   "source": [
    "X_train"
   ]
  },
  {
   "cell_type": "code",
   "execution_count": 160,
   "metadata": {},
   "outputs": [
    {
     "data": {
      "text/plain": [
       "array([0, 0, 0, ..., 0, 1, 1])"
      ]
     },
     "execution_count": 160,
     "metadata": {},
     "output_type": "execute_result"
    }
   ],
   "source": [
    "y_train"
   ]
  },
  {
   "cell_type": "markdown",
   "metadata": {},
   "source": [
    "# Model Building"
   ]
  },
  {
   "cell_type": "markdown",
   "metadata": {},
   "source": [
    "## KNN"
   ]
  },
  {
   "cell_type": "code",
   "execution_count": 166,
   "metadata": {},
   "outputs": [],
   "source": [
    "from sklearn.neighbors import KNeighborsClassifier"
   ]
  },
  {
   "cell_type": "code",
   "execution_count": 167,
   "metadata": {},
   "outputs": [],
   "source": [
    "error_rate = []\n",
    "for i in range(1,60):\n",
    "    knn = KNeighborsClassifier(n_neighbors=i)\n",
    "    knn.fit(X_train,y_train)\n",
    "    knn_pred_i = knn.predict(X_test)\n",
    "    error_rate.append(np.mean(knn_pred_i != y_test))"
   ]
  },
  {
   "cell_type": "code",
   "execution_count": 168,
   "metadata": {},
   "outputs": [
    {
     "data": {
      "text/plain": [
       "Text(0, 0.5, 'Error Rate')"
      ]
     },
     "execution_count": 168,
     "metadata": {},
     "output_type": "execute_result"
    },
    {
     "data": {
      "image/png": "[encoded data removed]",
      "text/plain": [
       "<Figure size 720x432 with 1 Axes>"
      ]
     },
     "metadata": {
      "needs_background": "light"
     },
     "output_type": "display_data"
    }
   ],
   "source": [
    "plt.figure(figsize=(10,6))\n",
    "plt.plot(range(1,60),error_rate,color='blue',ls='--',marker='o',markerfacecolor='red')\n",
    "plt.title('Error Rate vs K Value')\n",
    "plt.xlabel('n_neighbour')\n",
    "plt.ylabel('Error Rate')"
   ]
  },
  {
   "cell_type": "code",
   "execution_count": 169,
   "metadata": {},
   "outputs": [],
   "source": [
    "knn = KNeighborsClassifier(n_neighbors=1)"
   ]
  },
  {
   "cell_type": "code",
   "execution_count": 170,
   "metadata": {},
   "outputs": [
    {
     "data": {
      "text/plain": [
       "KNeighborsClassifier(n_neighbors=1)"
      ]
     },
     "execution_count": 170,
     "metadata": {},
     "output_type": "execute_result"
    }
   ],
   "source": [
    "knn.fit(X_train,y_train)"
   ]
  },
  {
   "cell_type": "code",
   "execution_count": 172,
   "metadata": {},
   "outputs": [],
   "source": [
    "from sklearn.metrics import confusion_matrix, classification_report"
   ]
  },
  {
   "cell_type": "code",
   "execution_count": 173,
   "metadata": {},
   "outputs": [
    {
     "data": {
      "text/plain": [
       "array([[3730,  150],\n",
       "       [  40, 1179]])"
      ]
     },
     "execution_count": 173,
     "metadata": {},
     "output_type": "execute_result"
    }
   ],
   "source": [
    "confusion_matrix(y_test, knn.predict(X_test))"
   ]
  },
  {
   "cell_type": "code",
   "execution_count": 174,
   "metadata": {},
   "outputs": [
    {
     "name": "stdout",
     "output_type": "stream",
     "text": [
      "              precision    recall  f1-score   support\n",
      "\n",
      "           0       0.99      0.96      0.98      3880\n",
      "           1       0.89      0.97      0.93      1219\n",
      "\n",
      "    accuracy                           0.96      5099\n",
      "   macro avg       0.94      0.96      0.95      5099\n",
      "weighted avg       0.96      0.96      0.96      5099\n",
      "\n"
     ]
    }
   ],
   "source": [
    "print(classification_report(y_test, knn.predict(X_test)))"
   ]
  },
  {
   "cell_type": "markdown",
   "metadata": {},
   "source": [
    "## Decision Tree "
   ]
  },
  {
   "cell_type": "code",
   "execution_count": 175,
   "metadata": {},
   "outputs": [],
   "source": [
    "from sklearn.tree import DecisionTreeClassifier"
   ]
  },
  {
   "cell_type": "code",
   "execution_count": 176,
   "metadata": {},
   "outputs": [],
   "source": [
    "dtc = DecisionTreeClassifier(criterion='entropy')"
   ]
  },
  {
   "cell_type": "code",
   "execution_count": 177,
   "metadata": {},
   "outputs": [
    {
     "data": {
      "text/plain": [
       "DecisionTreeClassifier(criterion='entropy')"
      ]
     },
     "execution_count": 177,
     "metadata": {},
     "output_type": "execute_result"
    }
   ],
   "source": [
    "dtc.fit(X_train,y_train)"
   ]
  },
  {
   "cell_type": "code",
   "execution_count": 178,
   "metadata": {},
   "outputs": [
    {
     "data": {
      "text/plain": [
       "array([[3815,   65],\n",
       "       [  26, 1193]])"
      ]
     },
     "execution_count": 178,
     "metadata": {},
     "output_type": "execute_result"
    }
   ],
   "source": [
    "confusion_matrix(y_test, dtc.predict(X_test))"
   ]
  },
  {
   "cell_type": "code",
   "execution_count": 179,
   "metadata": {},
   "outputs": [
    {
     "name": "stdout",
     "output_type": "stream",
     "text": [
      "              precision    recall  f1-score   support\n",
      "\n",
      "           0       0.99      0.98      0.99      3880\n",
      "           1       0.95      0.98      0.96      1219\n",
      "\n",
      "    accuracy                           0.98      5099\n",
      "   macro avg       0.97      0.98      0.98      5099\n",
      "weighted avg       0.98      0.98      0.98      5099\n",
      "\n"
     ]
    }
   ],
   "source": [
    "print(classification_report(y_test, dtc.predict(X_test)))"
   ]
  },
  {
   "cell_type": "markdown",
   "metadata": {},
   "source": [
    "### Cross Validation"
   ]
  },
  {
   "cell_type": "code",
   "execution_count": 121,
   "metadata": {},
   "outputs": [],
   "source": [
    "from sklearn.model_selection import cross_val_score"
   ]
  },
  {
   "cell_type": "code",
   "execution_count": 122,
   "metadata": {},
   "outputs": [],
   "source": [
    "accuracies = cross_val_score(estimator=dtc, X=X_train, y=y_train, cv=10)"
   ]
  },
  {
   "cell_type": "code",
   "execution_count": 123,
   "metadata": {},
   "outputs": [
    {
     "name": "stdout",
     "output_type": "stream",
     "text": [
      "Accuracy: 98.15 %\n",
      "Standard Deviation: 0.43 %\n"
     ]
    }
   ],
   "source": [
    "print(\"Accuracy: {:.2f} %\".format(accuracies.mean()*100))\n",
    "print(\"Standard Deviation: {:.2f} %\".format(accuracies.std()*100))"
   ]
  },
  {
   "cell_type": "markdown",
   "metadata": {},
   "source": [
    "## Random Forest"
   ]
  },
  {
   "cell_type": "code",
   "execution_count": 180,
   "metadata": {},
   "outputs": [],
   "source": [
    "from sklearn.ensemble import RandomForestClassifier"
   ]
  },
  {
   "cell_type": "code",
   "execution_count": 181,
   "metadata": {},
   "outputs": [],
   "source": [
    "rfc = RandomForestClassifier()"
   ]
  },
  {
   "cell_type": "code",
   "execution_count": 182,
   "metadata": {},
   "outputs": [
    {
     "data": {
      "text/plain": [
       "RandomForestClassifier()"
      ]
     },
     "execution_count": 182,
     "metadata": {},
     "output_type": "execute_result"
    }
   ],
   "source": [
    "rfc.fit(X_train,y_train)"
   ]
  },
  {
   "cell_type": "code",
   "execution_count": 183,
   "metadata": {},
   "outputs": [
    {
     "data": {
      "text/plain": [
       "array([[3875,    5],\n",
       "       [  39, 1180]])"
      ]
     },
     "execution_count": 183,
     "metadata": {},
     "output_type": "execute_result"
    }
   ],
   "source": [
    "confusion_matrix(y_test, rfc.predict(X_test))"
   ]
  },
  {
   "cell_type": "code",
   "execution_count": 184,
   "metadata": {},
   "outputs": [
    {
     "name": "stdout",
     "output_type": "stream",
     "text": [
      "              precision    recall  f1-score   support\n",
      "\n",
      "           0       0.99      1.00      0.99      3880\n",
      "           1       1.00      0.97      0.98      1219\n",
      "\n",
      "    accuracy                           0.99      5099\n",
      "   macro avg       0.99      0.98      0.99      5099\n",
      "weighted avg       0.99      0.99      0.99      5099\n",
      "\n"
     ]
    }
   ],
   "source": [
    "print(classification_report(y_test, rfc.predict(X_test)))"
   ]
  },
  {
   "cell_type": "markdown",
   "metadata": {},
   "source": [
    "Important features considered by the Random Forest model and their level of importance:"
   ]
  },
  {
   "cell_type": "code",
   "execution_count": 203,
   "metadata": {},
   "outputs": [
    {
     "name": "stdout",
     "output_type": "stream",
     "text": [
      "marketing-0.12%\n",
      "management-0.14%\n",
      "promotion_last_5years-0.15%\n",
      "accounting-0.17%\n",
      "Attrition-0.17%\n",
      "hr-0.20%\n",
      "product_mng-0.35%\n",
      "low-0.38%\n",
      "sales-0.43%\n",
      "technical-0.87%\n",
      "Work_accident-1.12%\n",
      "projects_worked_on-11.64%\n",
      "last_evaluation_rating-13.93%\n",
      "average_montly_hours-14.60%\n",
      "time_spend_company-19.78%\n",
      "satisfaction_level-35.96%\n"
     ]
    }
   ],
   "source": [
    "feature_labels = np.array(['satisfaction_level', 'last_evaluation_rating', 'projects_worked_on',\n",
    "       'average_montly_hours', 'time_spend_company', 'Work_accident',\n",
    "       'promotion_last_5years', 'Attrition', 'accounting', 'hr', 'management',\n",
    "       'marketing', 'product_mng', 'sales', 'technical', 'low', 'medium'])\n",
    "importance = rfc.feature_importances_\n",
    "feature_indexes_by_importance = importance.argsort()\n",
    "for index in feature_indexes_by_importance:\n",
    "    print('{}-{:.2f}%'.format(feature_labels[index], (importance[index] *100.0)))"
   ]
  },
  {
   "cell_type": "markdown",
   "metadata": {},
   "source": [
    "### Hyperparameter Tuning and Cross Validation"
   ]
  },
  {
   "cell_type": "code",
   "execution_count": 185,
   "metadata": {},
   "outputs": [],
   "source": [
    "from sklearn.model_selection import RandomizedSearchCV"
   ]
  },
  {
   "cell_type": "code",
   "execution_count": 186,
   "metadata": {},
   "outputs": [],
   "source": [
    "n_estimators = [int(x) for x in np.linspace(start = 100, stop = 1200, num = 12)]\n",
    "max_features = ['auto', 'sqrt']\n",
    "max_depth = [int(x) for x in np.linspace(5, 30, num = 6)]\n",
    "min_samples_split = [2, 5, 10, 15, 100]\n",
    "min_samples_leaf = [1, 2, 5, 10]\n",
    "\n",
    "parameters = {'n_estimators': n_estimators,\n",
    "               'max_features': max_features,\n",
    "               'max_depth': max_depth,\n",
    "               'min_samples_split': min_samples_split,\n",
    "               'min_samples_leaf': min_samples_leaf,\n",
    "                'bootstrap':[True, False]}"
   ]
  },
  {
   "cell_type": "code",
   "execution_count": 187,
   "metadata": {},
   "outputs": [],
   "source": [
    "ran_cv = RandomizedSearchCV(estimator=rfc, param_distributions=parameters, cv=5, n_jobs=-1, verbose=2)"
   ]
  },
  {
   "cell_type": "code",
   "execution_count": 188,
   "metadata": {},
   "outputs": [
    {
     "name": "stdout",
     "output_type": "stream",
     "text": [
      "Fitting 5 folds for each of 10 candidates, totalling 50 fits\n"
     ]
    },
    {
     "name": "stderr",
     "output_type": "stream",
     "text": [
      "[Parallel(n_jobs=-1)]: Using backend LokyBackend with 4 concurrent workers.\n",
      "[Parallel(n_jobs=-1)]: Done  33 tasks      | elapsed:  2.3min\n",
      "[Parallel(n_jobs=-1)]: Done  50 out of  50 | elapsed:  3.6min finished\n"
     ]
    },
    {
     "data": {
      "text/plain": [
       "RandomizedSearchCV(cv=5, estimator=RandomForestClassifier(), n_jobs=-1,\n",
       "                   param_distributions={'bootstrap': [True, False],\n",
       "                                        'max_depth': [5, 10, 15, 20, 25, 30],\n",
       "                                        'max_features': ['auto', 'sqrt'],\n",
       "                                        'min_samples_leaf': [1, 2, 5, 10],\n",
       "                                        'min_samples_split': [2, 5, 10, 15,\n",
       "                                                              100],\n",
       "                                        'n_estimators': [100, 200, 300, 400,\n",
       "                                                         500, 600, 700, 800,\n",
       "                                                         900, 1000, 1100,\n",
       "                                                         1200]},\n",
       "                   verbose=2)"
      ]
     },
     "execution_count": 188,
     "metadata": {},
     "output_type": "execute_result"
    }
   ],
   "source": [
    "ran_cv.fit(X_train, y_train)"
   ]
  },
  {
   "cell_type": "code",
   "execution_count": 189,
   "metadata": {},
   "outputs": [
    {
     "data": {
      "text/plain": [
       "array([[3873,    7],\n",
       "       [  40, 1179]])"
      ]
     },
     "execution_count": 189,
     "metadata": {},
     "output_type": "execute_result"
    }
   ],
   "source": [
    "confusion_matrix(y_test, ran_cv.predict(X_test))"
   ]
  },
  {
   "cell_type": "code",
   "execution_count": 190,
   "metadata": {},
   "outputs": [
    {
     "name": "stdout",
     "output_type": "stream",
     "text": [
      "              precision    recall  f1-score   support\n",
      "\n",
      "           0       0.99      1.00      0.99      3880\n",
      "           1       0.99      0.97      0.98      1219\n",
      "\n",
      "    accuracy                           0.99      5099\n",
      "   macro avg       0.99      0.98      0.99      5099\n",
      "weighted avg       0.99      0.99      0.99      5099\n",
      "\n"
     ]
    }
   ],
   "source": [
    "print(classification_report(y_test, ran_cv.predict(X_test)))"
   ]
  },
  {
   "cell_type": "markdown",
   "metadata": {},
   "source": [
    "## XGB"
   ]
  },
  {
   "cell_type": "code",
   "execution_count": 191,
   "metadata": {},
   "outputs": [],
   "source": [
    "from xgboost import XGBClassifier"
   ]
  },
  {
   "cell_type": "code",
   "execution_count": 192,
   "metadata": {},
   "outputs": [],
   "source": [
    "xgb = XGBClassifier()"
   ]
  },
  {
   "cell_type": "code",
   "execution_count": 193,
   "metadata": {},
   "outputs": [
    {
     "name": "stderr",
     "output_type": "stream",
     "text": [
      "/opt/anaconda3/lib/python3.8/site-packages/xgboost/sklearn.py:888: UserWarning: The use of label encoder in XGBClassifier is deprecated and will be removed in a future release. To remove this warning, do the following: 1) Pass option use_label_encoder=False when constructing XGBClassifier object; and 2) Encode your labels (y) as integers starting with 0, i.e. 0, 1, 2, ..., [num_class - 1].\n",
      "  warnings.warn(label_encoder_deprecation_msg, UserWarning)\n"
     ]
    },
    {
     "name": "stdout",
     "output_type": "stream",
     "text": [
      "[18:00:56] WARNING: /opt/concourse/worker/volumes/live/7a2b9f41-3287-451b-6691-43e9a6c0910f/volume/xgboost-split_1619728204606/work/src/learner.cc:1061: Starting in XGBoost 1.3.0, the default evaluation metric used with the objective 'binary:logistic' was changed from 'error' to 'logloss'. Explicitly set eval_metric if you'd like to restore the old behavior.\n"
     ]
    },
    {
     "data": {
      "text/plain": [
       "XGBClassifier(base_score=0.5, booster='gbtree', colsample_bylevel=1,\n",
       "              colsample_bynode=1, colsample_bytree=1, gamma=0, gpu_id=-1,\n",
       "              importance_type='gain', interaction_constraints='',\n",
       "              learning_rate=0.300000012, max_delta_step=0, max_depth=6,\n",
       "              min_child_weight=1, missing=nan, monotone_constraints='()',\n",
       "              n_estimators=100, n_jobs=4, num_parallel_tree=1, random_state=0,\n",
       "              reg_alpha=0, reg_lambda=1, scale_pos_weight=1, subsample=1,\n",
       "              tree_method='exact', validate_parameters=1, verbosity=None)"
      ]
     },
     "execution_count": 193,
     "metadata": {},
     "output_type": "execute_result"
    }
   ],
   "source": [
    "xgb.fit(X_train,y_train)"
   ]
  },
  {
   "cell_type": "code",
   "execution_count": 194,
   "metadata": {},
   "outputs": [
    {
     "data": {
      "text/plain": [
       "array([[3866,   14],\n",
       "       [  43, 1176]])"
      ]
     },
     "execution_count": 194,
     "metadata": {},
     "output_type": "execute_result"
    }
   ],
   "source": [
    "confusion_matrix(y_test, xgb.predict(X_test))"
   ]
  },
  {
   "cell_type": "code",
   "execution_count": 195,
   "metadata": {},
   "outputs": [
    {
     "name": "stdout",
     "output_type": "stream",
     "text": [
      "              precision    recall  f1-score   support\n",
      "\n",
      "           0       0.99      1.00      0.99      3880\n",
      "           1       0.99      0.96      0.98      1219\n",
      "\n",
      "    accuracy                           0.99      5099\n",
      "   macro avg       0.99      0.98      0.98      5099\n",
      "weighted avg       0.99      0.99      0.99      5099\n",
      "\n"
     ]
    }
   ],
   "source": [
    "print(classification_report(y_test, xgb.predict(X_test)))"
   ]
  },
  {
   "cell_type": "markdown",
   "metadata": {},
   "source": [
    "### Hyperparameter Tuning and Cross Validation"
   ]
  },
  {
   "cell_type": "code",
   "execution_count": 196,
   "metadata": {},
   "outputs": [],
   "source": [
    "parameters = {'max_depth': np.arange(2, 12, 2),  \n",
    "              'alpha': [0, .001, .01, .1],\n",
    "              'learning_rate': np.linspace(0.001, 0.6, 15),\n",
    "              'colsample_bytree': np.linspace(0.1, 1, 5),\n",
    "              'subsample': np.linspace(0.25, 1, 15),\n",
    "              'n_estimators': np.arange(10, 200, 15),\n",
    "              'min_child_weight':[1,3,5]}"
   ]
  },
  {
   "cell_type": "code",
   "execution_count": 197,
   "metadata": {},
   "outputs": [],
   "source": [
    "xgb_ran_cv = RandomizedSearchCV(estimator=xgb, param_distributions=parameters, cv=5, verbose=2, n_jobs=1)"
   ]
  },
  {
   "cell_type": "code",
   "execution_count": 198,
   "metadata": {},
   "outputs": [
    {
     "name": "stdout",
     "output_type": "stream",
     "text": [
      "Fitting 5 folds for each of 10 candidates, totalling 50 fits\n",
      "[CV] subsample=0.6785714285714286, n_estimators=175, min_child_weight=3, max_depth=6, learning_rate=0.001, colsample_bytree=0.775, alpha=0.1 \n",
      "[18:03:10] WARNING: /opt/concourse/worker/volumes/live/7a2b9f41-3287-451b-6691-43e9a6c0910f/volume/xgboost-split_1619728204606/work/src/learner.cc:1061: Starting in XGBoost 1.3.0, the default evaluation metric used with the objective 'binary:logistic' was changed from 'error' to 'logloss'. Explicitly set eval_metric if you'd like to restore the old behavior.\n"
     ]
    },
    {
     "name": "stderr",
     "output_type": "stream",
     "text": [
      "[Parallel(n_jobs=1)]: Using backend SequentialBackend with 1 concurrent workers.\n",
      "/opt/anaconda3/lib/python3.8/site-packages/xgboost/sklearn.py:888: UserWarning: The use of label encoder in XGBClassifier is deprecated and will be removed in a future release. To remove this warning, do the following: 1) Pass option use_label_encoder=False when constructing XGBClassifier object; and 2) Encode your labels (y) as integers starting with 0, i.e. 0, 1, 2, ..., [num_class - 1].\n",
      "  warnings.warn(label_encoder_deprecation_msg, UserWarning)\n"
     ]
    },
    {
     "name": "stdout",
     "output_type": "stream",
     "text": [
      "[CV]  subsample=0.6785714285714286, n_estimators=175, min_child_weight=3, max_depth=6, learning_rate=0.001, colsample_bytree=0.775, alpha=0.1, total=   1.9s\n",
      "[CV] subsample=0.6785714285714286, n_estimators=175, min_child_weight=3, max_depth=6, learning_rate=0.001, colsample_bytree=0.775, alpha=0.1 \n",
      "[18:03:12] WARNING: /opt/concourse/worker/volumes/live/7a2b9f41-3287-451b-6691-43e9a6c0910f/volume/xgboost-split_1619728204606/work/src/learner.cc:1061: Starting in XGBoost 1.3.0, the default evaluation metric used with the objective 'binary:logistic' was changed from 'error' to 'logloss'. Explicitly set eval_metric if you'd like to restore the old behavior.\n"
     ]
    },
    {
     "name": "stderr",
     "output_type": "stream",
     "text": [
      "[Parallel(n_jobs=1)]: Done   1 out of   1 | elapsed:    1.9s remaining:    0.0s\n"
     ]
    },
    {
     "name": "stdout",
     "output_type": "stream",
     "text": [
      "[CV]  subsample=0.6785714285714286, n_estimators=175, min_child_weight=3, max_depth=6, learning_rate=0.001, colsample_bytree=0.775, alpha=0.1, total=   1.8s\n",
      "[CV] subsample=0.6785714285714286, n_estimators=175, min_child_weight=3, max_depth=6, learning_rate=0.001, colsample_bytree=0.775, alpha=0.1 \n",
      "[18:03:14] WARNING: /opt/concourse/worker/volumes/live/7a2b9f41-3287-451b-6691-43e9a6c0910f/volume/xgboost-split_1619728204606/work/src/learner.cc:1061: Starting in XGBoost 1.3.0, the default evaluation metric used with the objective 'binary:logistic' was changed from 'error' to 'logloss'. Explicitly set eval_metric if you'd like to restore the old behavior.\n",
      "[CV]  subsample=0.6785714285714286, n_estimators=175, min_child_weight=3, max_depth=6, learning_rate=0.001, colsample_bytree=0.775, alpha=0.1, total=   2.1s\n",
      "[CV] subsample=0.6785714285714286, n_estimators=175, min_child_weight=3, max_depth=6, learning_rate=0.001, colsample_bytree=0.775, alpha=0.1 \n",
      "[18:03:16] WARNING: /opt/concourse/worker/volumes/live/7a2b9f41-3287-451b-6691-43e9a6c0910f/volume/xgboost-split_1619728204606/work/src/learner.cc:1061: Starting in XGBoost 1.3.0, the default evaluation metric used with the objective 'binary:logistic' was changed from 'error' to 'logloss'. Explicitly set eval_metric if you'd like to restore the old behavior.\n",
      "[CV]  subsample=0.6785714285714286, n_estimators=175, min_child_weight=3, max_depth=6, learning_rate=0.001, colsample_bytree=0.775, alpha=0.1, total=   2.1s\n",
      "[CV] subsample=0.6785714285714286, n_estimators=175, min_child_weight=3, max_depth=6, learning_rate=0.001, colsample_bytree=0.775, alpha=0.1 \n",
      "[18:03:18] WARNING: /opt/concourse/worker/volumes/live/7a2b9f41-3287-451b-6691-43e9a6c0910f/volume/xgboost-split_1619728204606/work/src/learner.cc:1061: Starting in XGBoost 1.3.0, the default evaluation metric used with the objective 'binary:logistic' was changed from 'error' to 'logloss'. Explicitly set eval_metric if you'd like to restore the old behavior.\n",
      "[CV]  subsample=0.6785714285714286, n_estimators=175, min_child_weight=3, max_depth=6, learning_rate=0.001, colsample_bytree=0.775, alpha=0.1, total=   1.8s\n",
      "[CV] subsample=0.5178571428571428, n_estimators=25, min_child_weight=1, max_depth=10, learning_rate=0.4716428571428571, colsample_bytree=0.775, alpha=0.1 \n",
      "[18:03:20] WARNING: /opt/concourse/worker/volumes/live/7a2b9f41-3287-451b-6691-43e9a6c0910f/volume/xgboost-split_1619728204606/work/src/learner.cc:1061: Starting in XGBoost 1.3.0, the default evaluation metric used with the objective 'binary:logistic' was changed from 'error' to 'logloss'. Explicitly set eval_metric if you'd like to restore the old behavior.\n",
      "[CV]  subsample=0.5178571428571428, n_estimators=25, min_child_weight=1, max_depth=10, learning_rate=0.4716428571428571, colsample_bytree=0.775, alpha=0.1, total=   0.4s\n",
      "[CV] subsample=0.5178571428571428, n_estimators=25, min_child_weight=1, max_depth=10, learning_rate=0.4716428571428571, colsample_bytree=0.775, alpha=0.1 \n",
      "[18:03:20] WARNING: /opt/concourse/worker/volumes/live/7a2b9f41-3287-451b-6691-43e9a6c0910f/volume/xgboost-split_1619728204606/work/src/learner.cc:1061: Starting in XGBoost 1.3.0, the default evaluation metric used with the objective 'binary:logistic' was changed from 'error' to 'logloss'. Explicitly set eval_metric if you'd like to restore the old behavior.\n",
      "[CV]  subsample=0.5178571428571428, n_estimators=25, min_child_weight=1, max_depth=10, learning_rate=0.4716428571428571, colsample_bytree=0.775, alpha=0.1, total=   0.5s\n",
      "[CV] subsample=0.5178571428571428, n_estimators=25, min_child_weight=1, max_depth=10, learning_rate=0.4716428571428571, colsample_bytree=0.775, alpha=0.1 \n",
      "[18:03:21] WARNING: /opt/concourse/worker/volumes/live/7a2b9f41-3287-451b-6691-43e9a6c0910f/volume/xgboost-split_1619728204606/work/src/learner.cc:1061: Starting in XGBoost 1.3.0, the default evaluation metric used with the objective 'binary:logistic' was changed from 'error' to 'logloss'. Explicitly set eval_metric if you'd like to restore the old behavior.\n",
      "[CV]  subsample=0.5178571428571428, n_estimators=25, min_child_weight=1, max_depth=10, learning_rate=0.4716428571428571, colsample_bytree=0.775, alpha=0.1, total=   0.5s\n",
      "[CV] subsample=0.5178571428571428, n_estimators=25, min_child_weight=1, max_depth=10, learning_rate=0.4716428571428571, colsample_bytree=0.775, alpha=0.1 \n",
      "[18:03:21] WARNING: /opt/concourse/worker/volumes/live/7a2b9f41-3287-451b-6691-43e9a6c0910f/volume/xgboost-split_1619728204606/work/src/learner.cc:1061: Starting in XGBoost 1.3.0, the default evaluation metric used with the objective 'binary:logistic' was changed from 'error' to 'logloss'. Explicitly set eval_metric if you'd like to restore the old behavior.\n",
      "[CV]  subsample=0.5178571428571428, n_estimators=25, min_child_weight=1, max_depth=10, learning_rate=0.4716428571428571, colsample_bytree=0.775, alpha=0.1, total=   0.4s\n",
      "[CV] subsample=0.5178571428571428, n_estimators=25, min_child_weight=1, max_depth=10, learning_rate=0.4716428571428571, colsample_bytree=0.775, alpha=0.1 \n",
      "[18:03:22] WARNING: /opt/concourse/worker/volumes/live/7a2b9f41-3287-451b-6691-43e9a6c0910f/volume/xgboost-split_1619728204606/work/src/learner.cc:1061: Starting in XGBoost 1.3.0, the default evaluation metric used with the objective 'binary:logistic' was changed from 'error' to 'logloss'. Explicitly set eval_metric if you'd like to restore the old behavior.\n",
      "[CV]  subsample=0.5178571428571428, n_estimators=25, min_child_weight=1, max_depth=10, learning_rate=0.4716428571428571, colsample_bytree=0.775, alpha=0.1, total=   0.5s\n",
      "[CV] subsample=0.8928571428571428, n_estimators=175, min_child_weight=3, max_depth=4, learning_rate=0.04378571428571428, colsample_bytree=0.775, alpha=0.001 \n",
      "[18:03:22] WARNING: /opt/concourse/worker/volumes/live/7a2b9f41-3287-451b-6691-43e9a6c0910f/volume/xgboost-split_1619728204606/work/src/learner.cc:1061: Starting in XGBoost 1.3.0, the default evaluation metric used with the objective 'binary:logistic' was changed from 'error' to 'logloss'. Explicitly set eval_metric if you'd like to restore the old behavior.\n",
      "[CV]  subsample=0.8928571428571428, n_estimators=175, min_child_weight=3, max_depth=4, learning_rate=0.04378571428571428, colsample_bytree=0.775, alpha=0.001, total=   1.4s\n",
      "[CV] subsample=0.8928571428571428, n_estimators=175, min_child_weight=3, max_depth=4, learning_rate=0.04378571428571428, colsample_bytree=0.775, alpha=0.001 \n",
      "[18:03:24] WARNING: /opt/concourse/worker/volumes/live/7a2b9f41-3287-451b-6691-43e9a6c0910f/volume/xgboost-split_1619728204606/work/src/learner.cc:1061: Starting in XGBoost 1.3.0, the default evaluation metric used with the objective 'binary:logistic' was changed from 'error' to 'logloss'. Explicitly set eval_metric if you'd like to restore the old behavior.\n",
      "[CV]  subsample=0.8928571428571428, n_estimators=175, min_child_weight=3, max_depth=4, learning_rate=0.04378571428571428, colsample_bytree=0.775, alpha=0.001, total=   1.3s\n",
      "[CV] subsample=0.8928571428571428, n_estimators=175, min_child_weight=3, max_depth=4, learning_rate=0.04378571428571428, colsample_bytree=0.775, alpha=0.001 \n",
      "[18:03:25] WARNING: /opt/concourse/worker/volumes/live/7a2b9f41-3287-451b-6691-43e9a6c0910f/volume/xgboost-split_1619728204606/work/src/learner.cc:1061: Starting in XGBoost 1.3.0, the default evaluation metric used with the objective 'binary:logistic' was changed from 'error' to 'logloss'. Explicitly set eval_metric if you'd like to restore the old behavior.\n",
      "[CV]  subsample=0.8928571428571428, n_estimators=175, min_child_weight=3, max_depth=4, learning_rate=0.04378571428571428, colsample_bytree=0.775, alpha=0.001, total=   1.3s\n",
      "[CV] subsample=0.8928571428571428, n_estimators=175, min_child_weight=3, max_depth=4, learning_rate=0.04378571428571428, colsample_bytree=0.775, alpha=0.001 \n",
      "[18:03:26] WARNING: /opt/concourse/worker/volumes/live/7a2b9f41-3287-451b-6691-43e9a6c0910f/volume/xgboost-split_1619728204606/work/src/learner.cc:1061: Starting in XGBoost 1.3.0, the default evaluation metric used with the objective 'binary:logistic' was changed from 'error' to 'logloss'. Explicitly set eval_metric if you'd like to restore the old behavior.\n",
      "[CV]  subsample=0.8928571428571428, n_estimators=175, min_child_weight=3, max_depth=4, learning_rate=0.04378571428571428, colsample_bytree=0.775, alpha=0.001, total=   1.2s\n",
      "[CV] subsample=0.8928571428571428, n_estimators=175, min_child_weight=3, max_depth=4, learning_rate=0.04378571428571428, colsample_bytree=0.775, alpha=0.001 \n",
      "[18:03:28] WARNING: /opt/concourse/worker/volumes/live/7a2b9f41-3287-451b-6691-43e9a6c0910f/volume/xgboost-split_1619728204606/work/src/learner.cc:1061: Starting in XGBoost 1.3.0, the default evaluation metric used with the objective 'binary:logistic' was changed from 'error' to 'logloss'. Explicitly set eval_metric if you'd like to restore the old behavior.\n"
     ]
    },
    {
     "name": "stdout",
     "output_type": "stream",
     "text": [
      "[CV]  subsample=0.8928571428571428, n_estimators=175, min_child_weight=3, max_depth=4, learning_rate=0.04378571428571428, colsample_bytree=0.775, alpha=0.001, total=   1.3s\n",
      "[CV] subsample=0.4107142857142857, n_estimators=10, min_child_weight=1, max_depth=6, learning_rate=0.17214285714285713, colsample_bytree=0.775, alpha=0.1 \n",
      "[18:03:29] WARNING: /opt/concourse/worker/volumes/live/7a2b9f41-3287-451b-6691-43e9a6c0910f/volume/xgboost-split_1619728204606/work/src/learner.cc:1061: Starting in XGBoost 1.3.0, the default evaluation metric used with the objective 'binary:logistic' was changed from 'error' to 'logloss'. Explicitly set eval_metric if you'd like to restore the old behavior.\n",
      "[CV]  subsample=0.4107142857142857, n_estimators=10, min_child_weight=1, max_depth=6, learning_rate=0.17214285714285713, colsample_bytree=0.775, alpha=0.1, total=   0.1s\n",
      "[CV] subsample=0.4107142857142857, n_estimators=10, min_child_weight=1, max_depth=6, learning_rate=0.17214285714285713, colsample_bytree=0.775, alpha=0.1 \n",
      "[18:03:29] WARNING: /opt/concourse/worker/volumes/live/7a2b9f41-3287-451b-6691-43e9a6c0910f/volume/xgboost-split_1619728204606/work/src/learner.cc:1061: Starting in XGBoost 1.3.0, the default evaluation metric used with the objective 'binary:logistic' was changed from 'error' to 'logloss'. Explicitly set eval_metric if you'd like to restore the old behavior.\n",
      "[CV]  subsample=0.4107142857142857, n_estimators=10, min_child_weight=1, max_depth=6, learning_rate=0.17214285714285713, colsample_bytree=0.775, alpha=0.1, total=   0.1s\n",
      "[CV] subsample=0.4107142857142857, n_estimators=10, min_child_weight=1, max_depth=6, learning_rate=0.17214285714285713, colsample_bytree=0.775, alpha=0.1 \n",
      "[18:03:29] WARNING: /opt/concourse/worker/volumes/live/7a2b9f41-3287-451b-6691-43e9a6c0910f/volume/xgboost-split_1619728204606/work/src/learner.cc:1061: Starting in XGBoost 1.3.0, the default evaluation metric used with the objective 'binary:logistic' was changed from 'error' to 'logloss'. Explicitly set eval_metric if you'd like to restore the old behavior.\n",
      "[CV]  subsample=0.4107142857142857, n_estimators=10, min_child_weight=1, max_depth=6, learning_rate=0.17214285714285713, colsample_bytree=0.775, alpha=0.1, total=   0.2s\n",
      "[CV] subsample=0.4107142857142857, n_estimators=10, min_child_weight=1, max_depth=6, learning_rate=0.17214285714285713, colsample_bytree=0.775, alpha=0.1 \n",
      "[18:03:29] WARNING: /opt/concourse/worker/volumes/live/7a2b9f41-3287-451b-6691-43e9a6c0910f/volume/xgboost-split_1619728204606/work/src/learner.cc:1061: Starting in XGBoost 1.3.0, the default evaluation metric used with the objective 'binary:logistic' was changed from 'error' to 'logloss'. Explicitly set eval_metric if you'd like to restore the old behavior.\n",
      "[CV]  subsample=0.4107142857142857, n_estimators=10, min_child_weight=1, max_depth=6, learning_rate=0.17214285714285713, colsample_bytree=0.775, alpha=0.1, total=   0.1s\n",
      "[CV] subsample=0.4107142857142857, n_estimators=10, min_child_weight=1, max_depth=6, learning_rate=0.17214285714285713, colsample_bytree=0.775, alpha=0.1 \n",
      "[18:03:29] WARNING: /opt/concourse/worker/volumes/live/7a2b9f41-3287-451b-6691-43e9a6c0910f/volume/xgboost-split_1619728204606/work/src/learner.cc:1061: Starting in XGBoost 1.3.0, the default evaluation metric used with the objective 'binary:logistic' was changed from 'error' to 'logloss'. Explicitly set eval_metric if you'd like to restore the old behavior.\n",
      "[CV]  subsample=0.4107142857142857, n_estimators=10, min_child_weight=1, max_depth=6, learning_rate=0.17214285714285713, colsample_bytree=0.775, alpha=0.1, total=   0.1s\n",
      "[CV] subsample=0.8392857142857143, n_estimators=70, min_child_weight=5, max_depth=6, learning_rate=0.4716428571428571, colsample_bytree=0.1, alpha=0.1 \n",
      "[18:03:30] WARNING: /opt/concourse/worker/volumes/live/7a2b9f41-3287-451b-6691-43e9a6c0910f/volume/xgboost-split_1619728204606/work/src/learner.cc:1061: Starting in XGBoost 1.3.0, the default evaluation metric used with the objective 'binary:logistic' was changed from 'error' to 'logloss'. Explicitly set eval_metric if you'd like to restore the old behavior.\n",
      "[CV]  subsample=0.8392857142857143, n_estimators=70, min_child_weight=5, max_depth=6, learning_rate=0.4716428571428571, colsample_bytree=0.1, alpha=0.1, total=   0.2s\n",
      "[CV] subsample=0.8392857142857143, n_estimators=70, min_child_weight=5, max_depth=6, learning_rate=0.4716428571428571, colsample_bytree=0.1, alpha=0.1 \n",
      "[18:03:30] WARNING: /opt/concourse/worker/volumes/live/7a2b9f41-3287-451b-6691-43e9a6c0910f/volume/xgboost-split_1619728204606/work/src/learner.cc:1061: Starting in XGBoost 1.3.0, the default evaluation metric used with the objective 'binary:logistic' was changed from 'error' to 'logloss'. Explicitly set eval_metric if you'd like to restore the old behavior.\n",
      "[CV]  subsample=0.8392857142857143, n_estimators=70, min_child_weight=5, max_depth=6, learning_rate=0.4716428571428571, colsample_bytree=0.1, alpha=0.1, total=   0.3s\n",
      "[CV] subsample=0.8392857142857143, n_estimators=70, min_child_weight=5, max_depth=6, learning_rate=0.4716428571428571, colsample_bytree=0.1, alpha=0.1 \n",
      "[18:03:30] WARNING: /opt/concourse/worker/volumes/live/7a2b9f41-3287-451b-6691-43e9a6c0910f/volume/xgboost-split_1619728204606/work/src/learner.cc:1061: Starting in XGBoost 1.3.0, the default evaluation metric used with the objective 'binary:logistic' was changed from 'error' to 'logloss'. Explicitly set eval_metric if you'd like to restore the old behavior.\n",
      "[CV]  subsample=0.8392857142857143, n_estimators=70, min_child_weight=5, max_depth=6, learning_rate=0.4716428571428571, colsample_bytree=0.1, alpha=0.1, total=   0.3s\n",
      "[CV] subsample=0.8392857142857143, n_estimators=70, min_child_weight=5, max_depth=6, learning_rate=0.4716428571428571, colsample_bytree=0.1, alpha=0.1 \n",
      "[18:03:30] WARNING: /opt/concourse/worker/volumes/live/7a2b9f41-3287-451b-6691-43e9a6c0910f/volume/xgboost-split_1619728204606/work/src/learner.cc:1061: Starting in XGBoost 1.3.0, the default evaluation metric used with the objective 'binary:logistic' was changed from 'error' to 'logloss'. Explicitly set eval_metric if you'd like to restore the old behavior.\n",
      "[CV]  subsample=0.8392857142857143, n_estimators=70, min_child_weight=5, max_depth=6, learning_rate=0.4716428571428571, colsample_bytree=0.1, alpha=0.1, total=   0.2s\n",
      "[CV] subsample=0.8392857142857143, n_estimators=70, min_child_weight=5, max_depth=6, learning_rate=0.4716428571428571, colsample_bytree=0.1, alpha=0.1 \n",
      "[18:03:31] WARNING: /opt/concourse/worker/volumes/live/7a2b9f41-3287-451b-6691-43e9a6c0910f/volume/xgboost-split_1619728204606/work/src/learner.cc:1061: Starting in XGBoost 1.3.0, the default evaluation metric used with the objective 'binary:logistic' was changed from 'error' to 'logloss'. Explicitly set eval_metric if you'd like to restore the old behavior.\n",
      "[CV]  subsample=0.8392857142857143, n_estimators=70, min_child_weight=5, max_depth=6, learning_rate=0.4716428571428571, colsample_bytree=0.1, alpha=0.1, total=   0.3s\n",
      "[CV] subsample=1.0, n_estimators=10, min_child_weight=5, max_depth=2, learning_rate=0.3860714285714285, colsample_bytree=0.325, alpha=0.1 \n",
      "[18:03:31] WARNING: /opt/concourse/worker/volumes/live/7a2b9f41-3287-451b-6691-43e9a6c0910f/volume/xgboost-split_1619728204606/work/src/learner.cc:1061: Starting in XGBoost 1.3.0, the default evaluation metric used with the objective 'binary:logistic' was changed from 'error' to 'logloss'. Explicitly set eval_metric if you'd like to restore the old behavior.\n",
      "[CV]  subsample=1.0, n_estimators=10, min_child_weight=5, max_depth=2, learning_rate=0.3860714285714285, colsample_bytree=0.325, alpha=0.1, total=   0.1s\n",
      "[CV] subsample=1.0, n_estimators=10, min_child_weight=5, max_depth=2, learning_rate=0.3860714285714285, colsample_bytree=0.325, alpha=0.1 \n",
      "[18:03:31] WARNING: /opt/concourse/worker/volumes/live/7a2b9f41-3287-451b-6691-43e9a6c0910f/volume/xgboost-split_1619728204606/work/src/learner.cc:1061: Starting in XGBoost 1.3.0, the default evaluation metric used with the objective 'binary:logistic' was changed from 'error' to 'logloss'. Explicitly set eval_metric if you'd like to restore the old behavior.\n",
      "[CV]  subsample=1.0, n_estimators=10, min_child_weight=5, max_depth=2, learning_rate=0.3860714285714285, colsample_bytree=0.325, alpha=0.1, total=   0.1s\n",
      "[CV] subsample=1.0, n_estimators=10, min_child_weight=5, max_depth=2, learning_rate=0.3860714285714285, colsample_bytree=0.325, alpha=0.1 \n",
      "[18:03:31] WARNING: /opt/concourse/worker/volumes/live/7a2b9f41-3287-451b-6691-43e9a6c0910f/volume/xgboost-split_1619728204606/work/src/learner.cc:1061: Starting in XGBoost 1.3.0, the default evaluation metric used with the objective 'binary:logistic' was changed from 'error' to 'logloss'. Explicitly set eval_metric if you'd like to restore the old behavior.\n",
      "[CV]  subsample=1.0, n_estimators=10, min_child_weight=5, max_depth=2, learning_rate=0.3860714285714285, colsample_bytree=0.325, alpha=0.1, total=   0.0s\n",
      "[CV] subsample=1.0, n_estimators=10, min_child_weight=5, max_depth=2, learning_rate=0.3860714285714285, colsample_bytree=0.325, alpha=0.1 \n",
      "[18:03:31] WARNING: /opt/concourse/worker/volumes/live/7a2b9f41-3287-451b-6691-43e9a6c0910f/volume/xgboost-split_1619728204606/work/src/learner.cc:1061: Starting in XGBoost 1.3.0, the default evaluation metric used with the objective 'binary:logistic' was changed from 'error' to 'logloss'. Explicitly set eval_metric if you'd like to restore the old behavior.\n"
     ]
    },
    {
     "name": "stdout",
     "output_type": "stream",
     "text": [
      "[CV]  subsample=1.0, n_estimators=10, min_child_weight=5, max_depth=2, learning_rate=0.3860714285714285, colsample_bytree=0.325, alpha=0.1, total=   0.0s\n",
      "[CV] subsample=1.0, n_estimators=10, min_child_weight=5, max_depth=2, learning_rate=0.3860714285714285, colsample_bytree=0.325, alpha=0.1 \n",
      "[18:03:31] WARNING: /opt/concourse/worker/volumes/live/7a2b9f41-3287-451b-6691-43e9a6c0910f/volume/xgboost-split_1619728204606/work/src/learner.cc:1061: Starting in XGBoost 1.3.0, the default evaluation metric used with the objective 'binary:logistic' was changed from 'error' to 'logloss'. Explicitly set eval_metric if you'd like to restore the old behavior.\n",
      "[CV]  subsample=1.0, n_estimators=10, min_child_weight=5, max_depth=2, learning_rate=0.3860714285714285, colsample_bytree=0.325, alpha=0.1, total=   0.1s\n",
      "[CV] subsample=0.30357142857142855, n_estimators=175, min_child_weight=1, max_depth=6, learning_rate=0.3860714285714285, colsample_bytree=0.325, alpha=0.01 \n",
      "[18:03:31] WARNING: /opt/concourse/worker/volumes/live/7a2b9f41-3287-451b-6691-43e9a6c0910f/volume/xgboost-split_1619728204606/work/src/learner.cc:1061: Starting in XGBoost 1.3.0, the default evaluation metric used with the objective 'binary:logistic' was changed from 'error' to 'logloss'. Explicitly set eval_metric if you'd like to restore the old behavior.\n",
      "[CV]  subsample=0.30357142857142855, n_estimators=175, min_child_weight=1, max_depth=6, learning_rate=0.3860714285714285, colsample_bytree=0.325, alpha=0.01, total=   1.1s\n",
      "[CV] subsample=0.30357142857142855, n_estimators=175, min_child_weight=1, max_depth=6, learning_rate=0.3860714285714285, colsample_bytree=0.325, alpha=0.01 \n",
      "[18:03:32] WARNING: /opt/concourse/worker/volumes/live/7a2b9f41-3287-451b-6691-43e9a6c0910f/volume/xgboost-split_1619728204606/work/src/learner.cc:1061: Starting in XGBoost 1.3.0, the default evaluation metric used with the objective 'binary:logistic' was changed from 'error' to 'logloss'. Explicitly set eval_metric if you'd like to restore the old behavior.\n",
      "[CV]  subsample=0.30357142857142855, n_estimators=175, min_child_weight=1, max_depth=6, learning_rate=0.3860714285714285, colsample_bytree=0.325, alpha=0.01, total=   1.4s\n",
      "[CV] subsample=0.30357142857142855, n_estimators=175, min_child_weight=1, max_depth=6, learning_rate=0.3860714285714285, colsample_bytree=0.325, alpha=0.01 \n",
      "[18:03:34] WARNING: /opt/concourse/worker/volumes/live/7a2b9f41-3287-451b-6691-43e9a6c0910f/volume/xgboost-split_1619728204606/work/src/learner.cc:1061: Starting in XGBoost 1.3.0, the default evaluation metric used with the objective 'binary:logistic' was changed from 'error' to 'logloss'. Explicitly set eval_metric if you'd like to restore the old behavior.\n",
      "[CV]  subsample=0.30357142857142855, n_estimators=175, min_child_weight=1, max_depth=6, learning_rate=0.3860714285714285, colsample_bytree=0.325, alpha=0.01, total=   1.2s\n",
      "[CV] subsample=0.30357142857142855, n_estimators=175, min_child_weight=1, max_depth=6, learning_rate=0.3860714285714285, colsample_bytree=0.325, alpha=0.01 \n",
      "[18:03:35] WARNING: /opt/concourse/worker/volumes/live/7a2b9f41-3287-451b-6691-43e9a6c0910f/volume/xgboost-split_1619728204606/work/src/learner.cc:1061: Starting in XGBoost 1.3.0, the default evaluation metric used with the objective 'binary:logistic' was changed from 'error' to 'logloss'. Explicitly set eval_metric if you'd like to restore the old behavior.\n",
      "[CV]  subsample=0.30357142857142855, n_estimators=175, min_child_weight=1, max_depth=6, learning_rate=0.3860714285714285, colsample_bytree=0.325, alpha=0.01, total=   1.1s\n",
      "[CV] subsample=0.30357142857142855, n_estimators=175, min_child_weight=1, max_depth=6, learning_rate=0.3860714285714285, colsample_bytree=0.325, alpha=0.01 \n",
      "[18:03:36] WARNING: /opt/concourse/worker/volumes/live/7a2b9f41-3287-451b-6691-43e9a6c0910f/volume/xgboost-split_1619728204606/work/src/learner.cc:1061: Starting in XGBoost 1.3.0, the default evaluation metric used with the objective 'binary:logistic' was changed from 'error' to 'logloss'. Explicitly set eval_metric if you'd like to restore the old behavior.\n",
      "[CV]  subsample=0.30357142857142855, n_estimators=175, min_child_weight=1, max_depth=6, learning_rate=0.3860714285714285, colsample_bytree=0.325, alpha=0.01, total=   1.4s\n",
      "[CV] subsample=0.8392857142857143, n_estimators=175, min_child_weight=3, max_depth=8, learning_rate=0.3005, colsample_bytree=0.325, alpha=0.001 \n",
      "[18:03:37] WARNING: /opt/concourse/worker/volumes/live/7a2b9f41-3287-451b-6691-43e9a6c0910f/volume/xgboost-split_1619728204606/work/src/learner.cc:1061: Starting in XGBoost 1.3.0, the default evaluation metric used with the objective 'binary:logistic' was changed from 'error' to 'logloss'. Explicitly set eval_metric if you'd like to restore the old behavior.\n",
      "[CV]  subsample=0.8392857142857143, n_estimators=175, min_child_weight=3, max_depth=8, learning_rate=0.3005, colsample_bytree=0.325, alpha=0.001, total=   1.6s\n",
      "[CV] subsample=0.8392857142857143, n_estimators=175, min_child_weight=3, max_depth=8, learning_rate=0.3005, colsample_bytree=0.325, alpha=0.001 \n",
      "[18:03:39] WARNING: /opt/concourse/worker/volumes/live/7a2b9f41-3287-451b-6691-43e9a6c0910f/volume/xgboost-split_1619728204606/work/src/learner.cc:1061: Starting in XGBoost 1.3.0, the default evaluation metric used with the objective 'binary:logistic' was changed from 'error' to 'logloss'. Explicitly set eval_metric if you'd like to restore the old behavior.\n",
      "[CV]  subsample=0.8392857142857143, n_estimators=175, min_child_weight=3, max_depth=8, learning_rate=0.3005, colsample_bytree=0.325, alpha=0.001, total=   1.8s\n",
      "[CV] subsample=0.8392857142857143, n_estimators=175, min_child_weight=3, max_depth=8, learning_rate=0.3005, colsample_bytree=0.325, alpha=0.001 \n",
      "[18:03:41] WARNING: /opt/concourse/worker/volumes/live/7a2b9f41-3287-451b-6691-43e9a6c0910f/volume/xgboost-split_1619728204606/work/src/learner.cc:1061: Starting in XGBoost 1.3.0, the default evaluation metric used with the objective 'binary:logistic' was changed from 'error' to 'logloss'. Explicitly set eval_metric if you'd like to restore the old behavior.\n",
      "[CV]  subsample=0.8392857142857143, n_estimators=175, min_child_weight=3, max_depth=8, learning_rate=0.3005, colsample_bytree=0.325, alpha=0.001, total=   1.7s\n",
      "[CV] subsample=0.8392857142857143, n_estimators=175, min_child_weight=3, max_depth=8, learning_rate=0.3005, colsample_bytree=0.325, alpha=0.001 \n",
      "[18:03:42] WARNING: /opt/concourse/worker/volumes/live/7a2b9f41-3287-451b-6691-43e9a6c0910f/volume/xgboost-split_1619728204606/work/src/learner.cc:1061: Starting in XGBoost 1.3.0, the default evaluation metric used with the objective 'binary:logistic' was changed from 'error' to 'logloss'. Explicitly set eval_metric if you'd like to restore the old behavior.\n",
      "[CV]  subsample=0.8392857142857143, n_estimators=175, min_child_weight=3, max_depth=8, learning_rate=0.3005, colsample_bytree=0.325, alpha=0.001, total=   1.9s\n",
      "[CV] subsample=0.8392857142857143, n_estimators=175, min_child_weight=3, max_depth=8, learning_rate=0.3005, colsample_bytree=0.325, alpha=0.001 \n",
      "[18:03:44] WARNING: /opt/concourse/worker/volumes/live/7a2b9f41-3287-451b-6691-43e9a6c0910f/volume/xgboost-split_1619728204606/work/src/learner.cc:1061: Starting in XGBoost 1.3.0, the default evaluation metric used with the objective 'binary:logistic' was changed from 'error' to 'logloss'. Explicitly set eval_metric if you'd like to restore the old behavior.\n",
      "[CV]  subsample=0.8392857142857143, n_estimators=175, min_child_weight=3, max_depth=8, learning_rate=0.3005, colsample_bytree=0.325, alpha=0.001, total=   1.8s\n",
      "[CV] subsample=0.25, n_estimators=130, min_child_weight=3, max_depth=6, learning_rate=0.3005, colsample_bytree=0.325, alpha=0.1 \n",
      "[18:03:46] WARNING: /opt/concourse/worker/volumes/live/7a2b9f41-3287-451b-6691-43e9a6c0910f/volume/xgboost-split_1619728204606/work/src/learner.cc:1061: Starting in XGBoost 1.3.0, the default evaluation metric used with the objective 'binary:logistic' was changed from 'error' to 'logloss'. Explicitly set eval_metric if you'd like to restore the old behavior.\n",
      "[CV]  subsample=0.25, n_estimators=130, min_child_weight=3, max_depth=6, learning_rate=0.3005, colsample_bytree=0.325, alpha=0.1, total=   0.8s\n",
      "[CV] subsample=0.25, n_estimators=130, min_child_weight=3, max_depth=6, learning_rate=0.3005, colsample_bytree=0.325, alpha=0.1 \n",
      "[18:03:47] WARNING: /opt/concourse/worker/volumes/live/7a2b9f41-3287-451b-6691-43e9a6c0910f/volume/xgboost-split_1619728204606/work/src/learner.cc:1061: Starting in XGBoost 1.3.0, the default evaluation metric used with the objective 'binary:logistic' was changed from 'error' to 'logloss'. Explicitly set eval_metric if you'd like to restore the old behavior.\n"
     ]
    },
    {
     "name": "stdout",
     "output_type": "stream",
     "text": [
      "[CV]  subsample=0.25, n_estimators=130, min_child_weight=3, max_depth=6, learning_rate=0.3005, colsample_bytree=0.325, alpha=0.1, total=   0.9s\n",
      "[CV] subsample=0.25, n_estimators=130, min_child_weight=3, max_depth=6, learning_rate=0.3005, colsample_bytree=0.325, alpha=0.1 \n",
      "[18:03:48] WARNING: /opt/concourse/worker/volumes/live/7a2b9f41-3287-451b-6691-43e9a6c0910f/volume/xgboost-split_1619728204606/work/src/learner.cc:1061: Starting in XGBoost 1.3.0, the default evaluation metric used with the objective 'binary:logistic' was changed from 'error' to 'logloss'. Explicitly set eval_metric if you'd like to restore the old behavior.\n",
      "[CV]  subsample=0.25, n_estimators=130, min_child_weight=3, max_depth=6, learning_rate=0.3005, colsample_bytree=0.325, alpha=0.1, total=   0.7s\n",
      "[CV] subsample=0.25, n_estimators=130, min_child_weight=3, max_depth=6, learning_rate=0.3005, colsample_bytree=0.325, alpha=0.1 \n",
      "[18:03:48] WARNING: /opt/concourse/worker/volumes/live/7a2b9f41-3287-451b-6691-43e9a6c0910f/volume/xgboost-split_1619728204606/work/src/learner.cc:1061: Starting in XGBoost 1.3.0, the default evaluation metric used with the objective 'binary:logistic' was changed from 'error' to 'logloss'. Explicitly set eval_metric if you'd like to restore the old behavior.\n",
      "[CV]  subsample=0.25, n_estimators=130, min_child_weight=3, max_depth=6, learning_rate=0.3005, colsample_bytree=0.325, alpha=0.1, total=   0.7s\n",
      "[CV] subsample=0.25, n_estimators=130, min_child_weight=3, max_depth=6, learning_rate=0.3005, colsample_bytree=0.325, alpha=0.1 \n",
      "[18:03:49] WARNING: /opt/concourse/worker/volumes/live/7a2b9f41-3287-451b-6691-43e9a6c0910f/volume/xgboost-split_1619728204606/work/src/learner.cc:1061: Starting in XGBoost 1.3.0, the default evaluation metric used with the objective 'binary:logistic' was changed from 'error' to 'logloss'. Explicitly set eval_metric if you'd like to restore the old behavior.\n",
      "[CV]  subsample=0.25, n_estimators=130, min_child_weight=3, max_depth=6, learning_rate=0.3005, colsample_bytree=0.325, alpha=0.1, total=   0.7s\n",
      "[CV] subsample=0.6785714285714286, n_estimators=145, min_child_weight=5, max_depth=2, learning_rate=0.2577142857142857, colsample_bytree=0.55, alpha=0.1 \n",
      "[18:03:50] WARNING: /opt/concourse/worker/volumes/live/7a2b9f41-3287-451b-6691-43e9a6c0910f/volume/xgboost-split_1619728204606/work/src/learner.cc:1061: Starting in XGBoost 1.3.0, the default evaluation metric used with the objective 'binary:logistic' was changed from 'error' to 'logloss'. Explicitly set eval_metric if you'd like to restore the old behavior.\n",
      "[CV]  subsample=0.6785714285714286, n_estimators=145, min_child_weight=5, max_depth=2, learning_rate=0.2577142857142857, colsample_bytree=0.55, alpha=0.1, total=   0.5s\n",
      "[CV] subsample=0.6785714285714286, n_estimators=145, min_child_weight=5, max_depth=2, learning_rate=0.2577142857142857, colsample_bytree=0.55, alpha=0.1 \n",
      "[18:03:50] WARNING: /opt/concourse/worker/volumes/live/7a2b9f41-3287-451b-6691-43e9a6c0910f/volume/xgboost-split_1619728204606/work/src/learner.cc:1061: Starting in XGBoost 1.3.0, the default evaluation metric used with the objective 'binary:logistic' was changed from 'error' to 'logloss'. Explicitly set eval_metric if you'd like to restore the old behavior.\n",
      "[CV]  subsample=0.6785714285714286, n_estimators=145, min_child_weight=5, max_depth=2, learning_rate=0.2577142857142857, colsample_bytree=0.55, alpha=0.1, total=   0.5s\n",
      "[CV] subsample=0.6785714285714286, n_estimators=145, min_child_weight=5, max_depth=2, learning_rate=0.2577142857142857, colsample_bytree=0.55, alpha=0.1 \n",
      "[18:03:51] WARNING: /opt/concourse/worker/volumes/live/7a2b9f41-3287-451b-6691-43e9a6c0910f/volume/xgboost-split_1619728204606/work/src/learner.cc:1061: Starting in XGBoost 1.3.0, the default evaluation metric used with the objective 'binary:logistic' was changed from 'error' to 'logloss'. Explicitly set eval_metric if you'd like to restore the old behavior.\n",
      "[CV]  subsample=0.6785714285714286, n_estimators=145, min_child_weight=5, max_depth=2, learning_rate=0.2577142857142857, colsample_bytree=0.55, alpha=0.1, total=   0.5s\n",
      "[CV] subsample=0.6785714285714286, n_estimators=145, min_child_weight=5, max_depth=2, learning_rate=0.2577142857142857, colsample_bytree=0.55, alpha=0.1 \n",
      "[18:03:51] WARNING: /opt/concourse/worker/volumes/live/7a2b9f41-3287-451b-6691-43e9a6c0910f/volume/xgboost-split_1619728204606/work/src/learner.cc:1061: Starting in XGBoost 1.3.0, the default evaluation metric used with the objective 'binary:logistic' was changed from 'error' to 'logloss'. Explicitly set eval_metric if you'd like to restore the old behavior.\n",
      "[CV]  subsample=0.6785714285714286, n_estimators=145, min_child_weight=5, max_depth=2, learning_rate=0.2577142857142857, colsample_bytree=0.55, alpha=0.1, total=   0.5s\n",
      "[CV] subsample=0.6785714285714286, n_estimators=145, min_child_weight=5, max_depth=2, learning_rate=0.2577142857142857, colsample_bytree=0.55, alpha=0.1 \n",
      "[18:03:52] WARNING: /opt/concourse/worker/volumes/live/7a2b9f41-3287-451b-6691-43e9a6c0910f/volume/xgboost-split_1619728204606/work/src/learner.cc:1061: Starting in XGBoost 1.3.0, the default evaluation metric used with the objective 'binary:logistic' was changed from 'error' to 'logloss'. Explicitly set eval_metric if you'd like to restore the old behavior.\n",
      "[CV]  subsample=0.6785714285714286, n_estimators=145, min_child_weight=5, max_depth=2, learning_rate=0.2577142857142857, colsample_bytree=0.55, alpha=0.1, total=   0.5s\n",
      "[18:03:52] WARNING: /opt/concourse/worker/volumes/live/7a2b9f41-3287-451b-6691-43e9a6c0910f/volume/xgboost-split_1619728204606/work/src/learner.cc:1061: Starting in XGBoost 1.3.0, the default evaluation metric used with the objective 'binary:logistic' was changed from 'error' to 'logloss'. Explicitly set eval_metric if you'd like to restore the old behavior.\n"
     ]
    },
    {
     "name": "stderr",
     "output_type": "stream",
     "text": [
      "[Parallel(n_jobs=1)]: Done  50 out of  50 | elapsed:   42.2s finished\n"
     ]
    },
    {
     "data": {
      "text/plain": [
       "RandomizedSearchCV(cv=5,\n",
       "                   estimator=XGBClassifier(base_score=0.5, booster='gbtree',\n",
       "                                           colsample_bylevel=1,\n",
       "                                           colsample_bynode=1,\n",
       "                                           colsample_bytree=1, gamma=0,\n",
       "                                           gpu_id=-1, importance_type='gain',\n",
       "                                           interaction_constraints='',\n",
       "                                           learning_rate=0.300000012,\n",
       "                                           max_delta_step=0, max_depth=6,\n",
       "                                           min_child_weight=1, missing=nan,\n",
       "                                           monotone_constraints='()',\n",
       "                                           n_estimators=100, n_jobs=4,\n",
       "                                           num_pa...\n",
       "       0.42885714, 0.47164286, 0.51442857, 0.55721429, 0.6       ]),\n",
       "                                        'max_depth': array([ 2,  4,  6,  8, 10]),\n",
       "                                        'min_child_weight': [1, 3, 5],\n",
       "                                        'n_estimators': array([ 10,  25,  40,  55,  70,  85, 100, 115, 130, 145, 160, 175, 190]),\n",
       "                                        'subsample': array([0.25      , 0.30357143, 0.35714286, 0.41071429, 0.46428571,\n",
       "       0.51785714, 0.57142857, 0.625     , 0.67857143, 0.73214286,\n",
       "       0.78571429, 0.83928571, 0.89285714, 0.94642857, 1.        ])},\n",
       "                   verbose=2)"
      ]
     },
     "execution_count": 198,
     "metadata": {},
     "output_type": "execute_result"
    }
   ],
   "source": [
    "xgb_ran_cv.fit(X_train, y_train)"
   ]
  },
  {
   "cell_type": "code",
   "execution_count": 199,
   "metadata": {},
   "outputs": [
    {
     "data": {
      "text/plain": [
       "array([[3861,   19],\n",
       "       [  43, 1176]])"
      ]
     },
     "execution_count": 199,
     "metadata": {},
     "output_type": "execute_result"
    }
   ],
   "source": [
    "confusion_matrix(y_test, xgb_ran_cv.predict(X_test))"
   ]
  },
  {
   "cell_type": "code",
   "execution_count": 200,
   "metadata": {},
   "outputs": [
    {
     "name": "stdout",
     "output_type": "stream",
     "text": [
      "              precision    recall  f1-score   support\n",
      "\n",
      "           0       0.99      1.00      0.99      3880\n",
      "           1       0.98      0.96      0.97      1219\n",
      "\n",
      "    accuracy                           0.99      5099\n",
      "   macro avg       0.99      0.98      0.98      5099\n",
      "weighted avg       0.99      0.99      0.99      5099\n",
      "\n"
     ]
    }
   ],
   "source": [
    "print(classification_report(y_test, xgb_ran_cv.predict(X_test)))"
   ]
  },
  {
   "cell_type": "markdown",
   "metadata": {},
   "source": [
    "Important features considered by the XGBoost model and their level of importance:"
   ]
  },
  {
   "cell_type": "code",
   "execution_count": 205,
   "metadata": {},
   "outputs": [
    {
     "name": "stdout",
     "output_type": "stream",
     "text": [
      "promotion_last_5years-1.18%\n",
      "management-1.55%\n",
      "product_mng-1.70%\n",
      "accounting-1.97%\n",
      "marketing-2.00%\n",
      "sales-2.03%\n",
      "low-2.13%\n",
      "Attrition-2.33%\n",
      "technical-2.49%\n",
      "hr-2.84%\n",
      "Work_accident-4.63%\n",
      "average_montly_hours-5.40%\n",
      "last_evaluation_rating-9.28%\n",
      "projects_worked_on-16.03%\n",
      "time_spend_company-22.01%\n",
      "satisfaction_level-22.44%\n"
     ]
    }
   ],
   "source": [
    "feature_labels = np.array(['satisfaction_level', 'last_evaluation_rating', 'projects_worked_on',\n",
    "       'average_montly_hours', 'time_spend_company', 'Work_accident',\n",
    "       'promotion_last_5years', 'Attrition', 'accounting', 'hr', 'management',\n",
    "       'marketing', 'product_mng', 'sales', 'technical', 'low', 'medium'])\n",
    "importance = xgb.feature_importances_\n",
    "for index in importance.argsort():\n",
    "    print('{}-{:.2f}%'.format(feature_labels[index], (importance[index] *100.0)))"
   ]
  },
  {
   "cell_type": "markdown",
   "metadata": {},
   "source": [
    "## In conclusion we"
   ]
  },
  {
   "cell_type": "markdown",
   "metadata": {},
   "source": [
    "Loaded the dataset.\n",
    "\n",
    "Did Exploratory Data Analysis.\n",
    "\n",
    "Processed the data, did label encoding for categorical features.\n",
    "\n",
    "Built Decision Tree, Random Forest and XGBoost classification models to predict the attrition.\n",
    "\n",
    "Optimized the models with hyperparameter tuning using RandomizedSearchCV.\n",
    "\n",
    "Random Forest model fits the best with the dataset with a precision of 0.99 and accuracy of 0.99."
   ]
  },
  {
   "cell_type": "code",
   "execution_count": null,
   "metadata": {},
   "outputs": [],
   "source": []
  }
 ],
 "metadata": {
  "kernelspec": {
   "display_name": "Python 3",
   "language": "python",
   "name": "python3"
  },
  "language_info": {
   "codemirror_mode": {
    "name": "ipython",
    "version": 3
   },
   "file_extension": ".py",
   "mimetype": "text/x-python",
   "name": "python",
   "nbconvert_exporter": "python",
   "pygments_lexer": "ipython3",
   "version": "3.8.5"
  }
 },
 "nbformat": 4,
 "nbformat_minor": 4
}
